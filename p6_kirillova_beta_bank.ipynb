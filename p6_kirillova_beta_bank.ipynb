{
 "cells": [
  {
   "cell_type": "markdown",
   "metadata": {
    "toc": true
   },
   "source": [
    "<h1>Содержание<span class=\"tocSkip\"></span></h1>\n",
    "<div class=\"toc\"><ul class=\"toc-item\"><li><span><a href=\"#Подготовка-данных\" data-toc-modified-id=\"Подготовка-данных-1\"><span class=\"toc-item-num\">1&nbsp;&nbsp;</span>Подготовка данных</a></span><ul class=\"toc-item\"><li><span><a href=\"#Просмотр-и-загрузка-информации-о-датасете\" data-toc-modified-id=\"Просмотр-и-загрузка-информации-о-датасете-1.1\"><span class=\"toc-item-num\">1.1&nbsp;&nbsp;</span>Просмотр и загрузка информации о датасете</a></span></li><li><span><a href=\"#Заменим-значения-'nan'-в-столбце-'Tenure'-на-медианые-значения\" data-toc-modified-id=\"Заменим-значения-'nan'-в-столбце-'Tenure'-на-медианые-значения-1.2\"><span class=\"toc-item-num\">1.2&nbsp;&nbsp;</span>Заменим значения 'nan' в столбце 'Tenure' на медианые значения</a></span></li></ul></li><li><span><a href=\"#Исследование-задачи\" data-toc-modified-id=\"Исследование-задачи-2\"><span class=\"toc-item-num\">2&nbsp;&nbsp;</span>Исследование задачи</a></span><ul class=\"toc-item\"><li><span><a href=\"#Подготовка-данных-для-обучения\" data-toc-modified-id=\"Подготовка-данных-для-обучения-2.1\"><span class=\"toc-item-num\">2.1&nbsp;&nbsp;</span>Подготовка данных для обучения</a></span></li><li><span><a href=\"#One-hot-encoder-для-избежания-дами-ловушки\" data-toc-modified-id=\"One-hot-encoder-для-избежания-дами-ловушки-2.2\"><span class=\"toc-item-num\">2.2&nbsp;&nbsp;</span>One hot encoder для избежания дами-ловушки</a></span></li><li><span><a href=\"#Формируем-выборки-для-обучения-моделей\" data-toc-modified-id=\"Формируем-выборки-для-обучения-моделей-2.3\"><span class=\"toc-item-num\">2.3&nbsp;&nbsp;</span>Формируем выборки для обучения моделей</a></span></li><li><span><a href=\"#Масштабирование-признаков-обучающей-выборки\" data-toc-modified-id=\"Масштабирование-признаков-обучающей-выборки-2.4\"><span class=\"toc-item-num\">2.4&nbsp;&nbsp;</span>Масштабирование признаков обучающей выборки</a></span></li><li><span><a href=\"#Переход-к-обучению-моделей\" data-toc-modified-id=\"Переход-к-обучению-моделей-2.5\"><span class=\"toc-item-num\">2.5&nbsp;&nbsp;</span>Переход к обучению моделей</a></span></li><li><span><a href=\"#Исследование-баланса-классов\" data-toc-modified-id=\"Исследование-баланса-классов-2.6\"><span class=\"toc-item-num\">2.6&nbsp;&nbsp;</span>Исследование баланса классов</a></span></li><li><span><a href=\"#Исследование-моделей-без-учета-дисбаланса\" data-toc-modified-id=\"Исследование-моделей-без-учета-дисбаланса-2.7\"><span class=\"toc-item-num\">2.7&nbsp;&nbsp;</span>Исследование моделей без учета дисбаланса</a></span><ul class=\"toc-item\"><li><span><a href=\"#Линейная-регрессия-без-дислабанса\" data-toc-modified-id=\"Линейная-регрессия-без-дислабанса-2.7.1\"><span class=\"toc-item-num\">2.7.1&nbsp;&nbsp;</span>Линейная регрессия без дислабанса</a></span></li><li><span><a href=\"#Деревой-решений-без-дисбаланса\" data-toc-modified-id=\"Деревой-решений-без-дисбаланса-2.7.2\"><span class=\"toc-item-num\">2.7.2&nbsp;&nbsp;</span>Деревой решений без дисбаланса</a></span></li><li><span><a href=\"#Случайный-лес-без-дисбаланса\" data-toc-modified-id=\"Случайный-лес-без-дисбаланса-2.7.3\"><span class=\"toc-item-num\">2.7.3&nbsp;&nbsp;</span>Случайный лес без дисбаланса</a></span></li></ul></li></ul></li><li><span><a href=\"#Борьба-с-дисбалансом\" data-toc-modified-id=\"Борьба-с-дисбалансом-3\"><span class=\"toc-item-num\">3&nbsp;&nbsp;</span>Борьба с дисбалансом</a></span><ul class=\"toc-item\"><li><span><a href=\"#Функция-для-увелечения-класса-в-выборке\" data-toc-modified-id=\"Функция-для-увелечения-класса-в-выборке-3.1\"><span class=\"toc-item-num\">3.1&nbsp;&nbsp;</span>Функция для увелечения класса в выборке</a></span></li><li><span><a href=\"#Функция-для-уменьшения-класса-в-выборке\" data-toc-modified-id=\"Функция-для-уменьшения-класса-в-выборке-3.2\"><span class=\"toc-item-num\">3.2&nbsp;&nbsp;</span>Функция для уменьшения класса в выборке</a></span></li><li><span><a href=\"#Тестирование-функции\" data-toc-modified-id=\"Тестирование-функции-3.3\"><span class=\"toc-item-num\">3.3&nbsp;&nbsp;</span>Тестирование функции</a></span></li><li><span><a href=\"#Использование-функции-unsample\" data-toc-modified-id=\"Использование-функции-unsample-3.4\"><span class=\"toc-item-num\">3.4&nbsp;&nbsp;</span>Использование функции unsample</a></span></li><li><span><a href=\"#Использование-функции-downsample\" data-toc-modified-id=\"Использование-функции-downsample-3.5\"><span class=\"toc-item-num\">3.5&nbsp;&nbsp;</span>Использование функции downsample</a></span></li><li><span><a href=\"#Ообучение-моделей-на-сбалансированной-выборке\" data-toc-modified-id=\"Ообучение-моделей-на-сбалансированной-выборке-3.6\"><span class=\"toc-item-num\">3.6&nbsp;&nbsp;</span>Ообучение моделей на сбалансированной выборке</a></span></li></ul></li><li><span><a href=\"#Тестирование-модели\" data-toc-modified-id=\"Тестирование-модели-4\"><span class=\"toc-item-num\">4&nbsp;&nbsp;</span>Тестирование модели</a></span><ul class=\"toc-item\"><li><span><a href=\"#Обучение-финальной-модели-по-результатам-лучшей\" data-toc-modified-id=\"Обучение-финальной-модели-по-результатам-лучшей-4.1\"><span class=\"toc-item-num\">4.1&nbsp;&nbsp;</span>Обучение финальной модели по результатам лучшей</a></span></li><li><span><a href=\"#Сравнение-с-константной-моделью\" data-toc-modified-id=\"Сравнение-с-константной-моделью-4.2\"><span class=\"toc-item-num\">4.2&nbsp;&nbsp;</span>Сравнение с константной моделью</a></span></li></ul></li><li><span><a href=\"#Чек-лист-готовности-проекта\" data-toc-modified-id=\"Чек-лист-готовности-проекта-5\"><span class=\"toc-item-num\">5&nbsp;&nbsp;</span>Чек-лист готовности проекта</a></span></li></ul></div>"
   ]
  },
  {
   "cell_type": "markdown",
   "metadata": {},
   "source": [
    "# Отток клиентов"
   ]
  },
  {
   "cell_type": "markdown",
   "metadata": {},
   "source": [
    "Из «Бета-Банка» стали уходить клиенты. Каждый месяц. Немного, но заметно. Банковские маркетологи посчитали: сохранять текущих клиентов дешевле, чем привлекать новых.\n",
    "\n",
    "Нужно спрогнозировать, уйдёт клиент из банка в ближайшее время или нет. Вам предоставлены исторические данные о поведении клиентов и расторжении договоров с банком. \n",
    "\n",
    "Постройте модель с предельно большим значением *F1*-меры. Чтобы сдать проект успешно, нужно довести метрику до 0.59. Проверьте *F1*-меру на тестовой выборке самостоятельно.\n",
    "\n",
    "Дополнительно измеряйте *AUC-ROC*, сравнивайте её значение с *F1*-мерой.\n",
    "\n",
    "Источник данных: [https://www.kaggle.com/barelydedicated/bank-customer-churn-modeling](https://www.kaggle.com/barelydedicated/bank-customer-churn-modeling)"
   ]
  },
  {
   "cell_type": "markdown",
   "metadata": {},
   "source": [
    "Описание данных\n",
    "\n",
    "Признаки:\n",
    "\n",
    "*RowNumber* — индекс строки в данных\n",
    "\n",
    "*CustomerId* — уникальный идентификатор клиента\n",
    "\n",
    "*Surname* — фамилия\n",
    "\n",
    "*CreditScore* — кредитный рейтинг\n",
    "\n",
    "*Geography* — страна проживания\n",
    "\n",
    "*Gender* — пол\n",
    "\n",
    "*Age* — возраст\n",
    "\n",
    "*Tenure* — количество недвижимости у клиента\n",
    "\n",
    "*Balance* — баланс на счёте\n",
    "\n",
    "*NumOfProducts* — количество продуктов банка, используемых клиентом\n",
    "\n",
    "*HasCrCard* — наличие кредитной карты\n",
    "\n",
    "*IsActiveMember* — активность клиента\n",
    "\n",
    "*EstimatedSalary* — предполагаемая зарплата\n",
    "\n",
    "Целевой признак:\n",
    "\n",
    "*Exited* — факт ухода клиента"
   ]
  },
  {
   "cell_type": "markdown",
   "metadata": {},
   "source": [
    "## Подготовка данных"
   ]
  },
  {
   "cell_type": "markdown",
   "metadata": {},
   "source": [
    "### Просмотр и загрузка информации о датасете"
   ]
  },
  {
   "cell_type": "code",
   "execution_count": 106,
   "metadata": {},
   "outputs": [],
   "source": [
    "import pandas as pd\n",
    "from sklearn.model_selection import train_test_split\n",
    "from sklearn.linear_model import LogisticRegression\n",
    "import matplotlib.pyplot as plt\n",
    "import numpy as np\n",
    "import scipy.stats as st\n",
    "from sklearn.preprocessing import OrdinalEncoder \n",
    "from sklearn.tree import DecisionTreeClassifier\n",
    "from sklearn.preprocessing import StandardScaler \n",
    "from sklearn.metrics import accuracy_score, f1_score, recall_score, precision_score, roc_auc_score, roc_curve, confusion_matrix\n",
    "from sklearn.ensemble import RandomForestClassifier\n",
    "from sklearn.utils import shuffle\n",
    "\n",
    "import warnings\n",
    "warnings.filterwarnings(\"ignore\")"
   ]
  },
  {
   "cell_type": "code",
   "execution_count": 107,
   "metadata": {},
   "outputs": [],
   "source": [
    "#Откроем файл\n",
    "data = pd.read_csv('/datasets/Churn.csv')"
   ]
  },
  {
   "cell_type": "code",
   "execution_count": 108,
   "metadata": {},
   "outputs": [
    {
     "data": {
      "text/html": [
       "<div>\n",
       "<style scoped>\n",
       "    .dataframe tbody tr th:only-of-type {\n",
       "        vertical-align: middle;\n",
       "    }\n",
       "\n",
       "    .dataframe tbody tr th {\n",
       "        vertical-align: top;\n",
       "    }\n",
       "\n",
       "    .dataframe thead th {\n",
       "        text-align: right;\n",
       "    }\n",
       "</style>\n",
       "<table border=\"1\" class=\"dataframe\">\n",
       "  <thead>\n",
       "    <tr style=\"text-align: right;\">\n",
       "      <th></th>\n",
       "      <th>RowNumber</th>\n",
       "      <th>CustomerId</th>\n",
       "      <th>Surname</th>\n",
       "      <th>CreditScore</th>\n",
       "      <th>Geography</th>\n",
       "      <th>Gender</th>\n",
       "      <th>Age</th>\n",
       "      <th>Tenure</th>\n",
       "      <th>Balance</th>\n",
       "      <th>NumOfProducts</th>\n",
       "      <th>HasCrCard</th>\n",
       "      <th>IsActiveMember</th>\n",
       "      <th>EstimatedSalary</th>\n",
       "      <th>Exited</th>\n",
       "    </tr>\n",
       "  </thead>\n",
       "  <tbody>\n",
       "    <tr>\n",
       "      <th>0</th>\n",
       "      <td>1</td>\n",
       "      <td>15634602</td>\n",
       "      <td>Hargrave</td>\n",
       "      <td>619</td>\n",
       "      <td>France</td>\n",
       "      <td>Female</td>\n",
       "      <td>42</td>\n",
       "      <td>2.0</td>\n",
       "      <td>0.00</td>\n",
       "      <td>1</td>\n",
       "      <td>1</td>\n",
       "      <td>1</td>\n",
       "      <td>101348.88</td>\n",
       "      <td>1</td>\n",
       "    </tr>\n",
       "    <tr>\n",
       "      <th>1</th>\n",
       "      <td>2</td>\n",
       "      <td>15647311</td>\n",
       "      <td>Hill</td>\n",
       "      <td>608</td>\n",
       "      <td>Spain</td>\n",
       "      <td>Female</td>\n",
       "      <td>41</td>\n",
       "      <td>1.0</td>\n",
       "      <td>83807.86</td>\n",
       "      <td>1</td>\n",
       "      <td>0</td>\n",
       "      <td>1</td>\n",
       "      <td>112542.58</td>\n",
       "      <td>0</td>\n",
       "    </tr>\n",
       "    <tr>\n",
       "      <th>2</th>\n",
       "      <td>3</td>\n",
       "      <td>15619304</td>\n",
       "      <td>Onio</td>\n",
       "      <td>502</td>\n",
       "      <td>France</td>\n",
       "      <td>Female</td>\n",
       "      <td>42</td>\n",
       "      <td>8.0</td>\n",
       "      <td>159660.80</td>\n",
       "      <td>3</td>\n",
       "      <td>1</td>\n",
       "      <td>0</td>\n",
       "      <td>113931.57</td>\n",
       "      <td>1</td>\n",
       "    </tr>\n",
       "    <tr>\n",
       "      <th>3</th>\n",
       "      <td>4</td>\n",
       "      <td>15701354</td>\n",
       "      <td>Boni</td>\n",
       "      <td>699</td>\n",
       "      <td>France</td>\n",
       "      <td>Female</td>\n",
       "      <td>39</td>\n",
       "      <td>1.0</td>\n",
       "      <td>0.00</td>\n",
       "      <td>2</td>\n",
       "      <td>0</td>\n",
       "      <td>0</td>\n",
       "      <td>93826.63</td>\n",
       "      <td>0</td>\n",
       "    </tr>\n",
       "    <tr>\n",
       "      <th>4</th>\n",
       "      <td>5</td>\n",
       "      <td>15737888</td>\n",
       "      <td>Mitchell</td>\n",
       "      <td>850</td>\n",
       "      <td>Spain</td>\n",
       "      <td>Female</td>\n",
       "      <td>43</td>\n",
       "      <td>2.0</td>\n",
       "      <td>125510.82</td>\n",
       "      <td>1</td>\n",
       "      <td>1</td>\n",
       "      <td>1</td>\n",
       "      <td>79084.10</td>\n",
       "      <td>0</td>\n",
       "    </tr>\n",
       "  </tbody>\n",
       "</table>\n",
       "</div>"
      ],
      "text/plain": [
       "   RowNumber  CustomerId   Surname  CreditScore Geography  Gender  Age  \\\n",
       "0          1    15634602  Hargrave          619    France  Female   42   \n",
       "1          2    15647311      Hill          608     Spain  Female   41   \n",
       "2          3    15619304      Onio          502    France  Female   42   \n",
       "3          4    15701354      Boni          699    France  Female   39   \n",
       "4          5    15737888  Mitchell          850     Spain  Female   43   \n",
       "\n",
       "   Tenure    Balance  NumOfProducts  HasCrCard  IsActiveMember  \\\n",
       "0     2.0       0.00              1          1               1   \n",
       "1     1.0   83807.86              1          0               1   \n",
       "2     8.0  159660.80              3          1               0   \n",
       "3     1.0       0.00              2          0               0   \n",
       "4     2.0  125510.82              1          1               1   \n",
       "\n",
       "   EstimatedSalary  Exited  \n",
       "0        101348.88       1  \n",
       "1        112542.58       0  \n",
       "2        113931.57       1  \n",
       "3         93826.63       0  \n",
       "4         79084.10       0  "
      ]
     },
     "metadata": {},
     "output_type": "display_data"
    },
    {
     "name": "stdout",
     "output_type": "stream",
     "text": [
      "Размер таблицы:\n"
     ]
    },
    {
     "data": {
      "text/plain": [
       "(10000, 14)"
      ]
     },
     "metadata": {},
     "output_type": "display_data"
    },
    {
     "name": "stdout",
     "output_type": "stream",
     "text": [
      "Общая информация о таблице:\n",
      "<class 'pandas.core.frame.DataFrame'>\n",
      "RangeIndex: 10000 entries, 0 to 9999\n",
      "Data columns (total 14 columns):\n",
      " #   Column           Non-Null Count  Dtype  \n",
      "---  ------           --------------  -----  \n",
      " 0   RowNumber        10000 non-null  int64  \n",
      " 1   CustomerId       10000 non-null  int64  \n",
      " 2   Surname          10000 non-null  object \n",
      " 3   CreditScore      10000 non-null  int64  \n",
      " 4   Geography        10000 non-null  object \n",
      " 5   Gender           10000 non-null  object \n",
      " 6   Age              10000 non-null  int64  \n",
      " 7   Tenure           9091 non-null   float64\n",
      " 8   Balance          10000 non-null  float64\n",
      " 9   NumOfProducts    10000 non-null  int64  \n",
      " 10  HasCrCard        10000 non-null  int64  \n",
      " 11  IsActiveMember   10000 non-null  int64  \n",
      " 12  EstimatedSalary  10000 non-null  float64\n",
      " 13  Exited           10000 non-null  int64  \n",
      "dtypes: float64(3), int64(8), object(3)\n",
      "memory usage: 1.1+ MB\n"
     ]
    }
   ],
   "source": [
    "#Отобразим первые 5 строк таблицы\n",
    "display(data.head(5))\n",
    "\n",
    "#Отобразим размер таблицы\n",
    "print('Размер таблицы:')\n",
    "display(data.shape)\n",
    "\n",
    "#Просмотрим общую информации о таблице\n",
    "print('Общая информация о таблице:')\n",
    "data.info()"
   ]
  },
  {
   "cell_type": "code",
   "execution_count": 109,
   "metadata": {},
   "outputs": [
    {
     "data": {
      "text/html": [
       "<div>\n",
       "<style scoped>\n",
       "    .dataframe tbody tr th:only-of-type {\n",
       "        vertical-align: middle;\n",
       "    }\n",
       "\n",
       "    .dataframe tbody tr th {\n",
       "        vertical-align: top;\n",
       "    }\n",
       "\n",
       "    .dataframe thead th {\n",
       "        text-align: right;\n",
       "    }\n",
       "</style>\n",
       "<table border=\"1\" class=\"dataframe\">\n",
       "  <thead>\n",
       "    <tr style=\"text-align: right;\">\n",
       "      <th></th>\n",
       "      <th>RowNumber</th>\n",
       "      <th>CustomerId</th>\n",
       "      <th>CreditScore</th>\n",
       "      <th>Age</th>\n",
       "      <th>Tenure</th>\n",
       "      <th>Balance</th>\n",
       "      <th>NumOfProducts</th>\n",
       "      <th>HasCrCard</th>\n",
       "      <th>IsActiveMember</th>\n",
       "      <th>EstimatedSalary</th>\n",
       "      <th>Exited</th>\n",
       "    </tr>\n",
       "  </thead>\n",
       "  <tbody>\n",
       "    <tr>\n",
       "      <th>count</th>\n",
       "      <td>10000.00000</td>\n",
       "      <td>1.000000e+04</td>\n",
       "      <td>10000.000000</td>\n",
       "      <td>10000.000000</td>\n",
       "      <td>9091.000000</td>\n",
       "      <td>10000.000000</td>\n",
       "      <td>10000.000000</td>\n",
       "      <td>10000.00000</td>\n",
       "      <td>10000.000000</td>\n",
       "      <td>10000.000000</td>\n",
       "      <td>10000.000000</td>\n",
       "    </tr>\n",
       "    <tr>\n",
       "      <th>mean</th>\n",
       "      <td>5000.50000</td>\n",
       "      <td>1.569094e+07</td>\n",
       "      <td>650.528800</td>\n",
       "      <td>38.921800</td>\n",
       "      <td>4.997690</td>\n",
       "      <td>76485.889288</td>\n",
       "      <td>1.530200</td>\n",
       "      <td>0.70550</td>\n",
       "      <td>0.515100</td>\n",
       "      <td>100090.239881</td>\n",
       "      <td>0.203700</td>\n",
       "    </tr>\n",
       "    <tr>\n",
       "      <th>std</th>\n",
       "      <td>2886.89568</td>\n",
       "      <td>7.193619e+04</td>\n",
       "      <td>96.653299</td>\n",
       "      <td>10.487806</td>\n",
       "      <td>2.894723</td>\n",
       "      <td>62397.405202</td>\n",
       "      <td>0.581654</td>\n",
       "      <td>0.45584</td>\n",
       "      <td>0.499797</td>\n",
       "      <td>57510.492818</td>\n",
       "      <td>0.402769</td>\n",
       "    </tr>\n",
       "    <tr>\n",
       "      <th>min</th>\n",
       "      <td>1.00000</td>\n",
       "      <td>1.556570e+07</td>\n",
       "      <td>350.000000</td>\n",
       "      <td>18.000000</td>\n",
       "      <td>0.000000</td>\n",
       "      <td>0.000000</td>\n",
       "      <td>1.000000</td>\n",
       "      <td>0.00000</td>\n",
       "      <td>0.000000</td>\n",
       "      <td>11.580000</td>\n",
       "      <td>0.000000</td>\n",
       "    </tr>\n",
       "    <tr>\n",
       "      <th>25%</th>\n",
       "      <td>2500.75000</td>\n",
       "      <td>1.562853e+07</td>\n",
       "      <td>584.000000</td>\n",
       "      <td>32.000000</td>\n",
       "      <td>2.000000</td>\n",
       "      <td>0.000000</td>\n",
       "      <td>1.000000</td>\n",
       "      <td>0.00000</td>\n",
       "      <td>0.000000</td>\n",
       "      <td>51002.110000</td>\n",
       "      <td>0.000000</td>\n",
       "    </tr>\n",
       "    <tr>\n",
       "      <th>50%</th>\n",
       "      <td>5000.50000</td>\n",
       "      <td>1.569074e+07</td>\n",
       "      <td>652.000000</td>\n",
       "      <td>37.000000</td>\n",
       "      <td>5.000000</td>\n",
       "      <td>97198.540000</td>\n",
       "      <td>1.000000</td>\n",
       "      <td>1.00000</td>\n",
       "      <td>1.000000</td>\n",
       "      <td>100193.915000</td>\n",
       "      <td>0.000000</td>\n",
       "    </tr>\n",
       "    <tr>\n",
       "      <th>75%</th>\n",
       "      <td>7500.25000</td>\n",
       "      <td>1.575323e+07</td>\n",
       "      <td>718.000000</td>\n",
       "      <td>44.000000</td>\n",
       "      <td>7.000000</td>\n",
       "      <td>127644.240000</td>\n",
       "      <td>2.000000</td>\n",
       "      <td>1.00000</td>\n",
       "      <td>1.000000</td>\n",
       "      <td>149388.247500</td>\n",
       "      <td>0.000000</td>\n",
       "    </tr>\n",
       "    <tr>\n",
       "      <th>max</th>\n",
       "      <td>10000.00000</td>\n",
       "      <td>1.581569e+07</td>\n",
       "      <td>850.000000</td>\n",
       "      <td>92.000000</td>\n",
       "      <td>10.000000</td>\n",
       "      <td>250898.090000</td>\n",
       "      <td>4.000000</td>\n",
       "      <td>1.00000</td>\n",
       "      <td>1.000000</td>\n",
       "      <td>199992.480000</td>\n",
       "      <td>1.000000</td>\n",
       "    </tr>\n",
       "  </tbody>\n",
       "</table>\n",
       "</div>"
      ],
      "text/plain": [
       "         RowNumber    CustomerId   CreditScore           Age       Tenure  \\\n",
       "count  10000.00000  1.000000e+04  10000.000000  10000.000000  9091.000000   \n",
       "mean    5000.50000  1.569094e+07    650.528800     38.921800     4.997690   \n",
       "std     2886.89568  7.193619e+04     96.653299     10.487806     2.894723   \n",
       "min        1.00000  1.556570e+07    350.000000     18.000000     0.000000   \n",
       "25%     2500.75000  1.562853e+07    584.000000     32.000000     2.000000   \n",
       "50%     5000.50000  1.569074e+07    652.000000     37.000000     5.000000   \n",
       "75%     7500.25000  1.575323e+07    718.000000     44.000000     7.000000   \n",
       "max    10000.00000  1.581569e+07    850.000000     92.000000    10.000000   \n",
       "\n",
       "             Balance  NumOfProducts    HasCrCard  IsActiveMember  \\\n",
       "count   10000.000000   10000.000000  10000.00000    10000.000000   \n",
       "mean    76485.889288       1.530200      0.70550        0.515100   \n",
       "std     62397.405202       0.581654      0.45584        0.499797   \n",
       "min         0.000000       1.000000      0.00000        0.000000   \n",
       "25%         0.000000       1.000000      0.00000        0.000000   \n",
       "50%     97198.540000       1.000000      1.00000        1.000000   \n",
       "75%    127644.240000       2.000000      1.00000        1.000000   \n",
       "max    250898.090000       4.000000      1.00000        1.000000   \n",
       "\n",
       "       EstimatedSalary        Exited  \n",
       "count     10000.000000  10000.000000  \n",
       "mean     100090.239881      0.203700  \n",
       "std       57510.492818      0.402769  \n",
       "min          11.580000      0.000000  \n",
       "25%       51002.110000      0.000000  \n",
       "50%      100193.915000      0.000000  \n",
       "75%      149388.247500      0.000000  \n",
       "max      199992.480000      1.000000  "
      ]
     },
     "execution_count": 109,
     "metadata": {},
     "output_type": "execute_result"
    }
   ],
   "source": [
    "data.describe()"
   ]
  },
  {
   "cell_type": "code",
   "execution_count": 110,
   "metadata": {},
   "outputs": [
    {
     "data": {
      "text/plain": [
       "0"
      ]
     },
     "execution_count": 110,
     "metadata": {},
     "output_type": "execute_result"
    }
   ],
   "source": [
    "#Проверим на дубликаты\n",
    "data.duplicated().sum()"
   ]
  },
  {
   "cell_type": "code",
   "execution_count": 111,
   "metadata": {},
   "outputs": [
    {
     "data": {
      "text/plain": [
       "array(['France', 'Spain', 'Germany'], dtype=object)"
      ]
     },
     "execution_count": 111,
     "metadata": {},
     "output_type": "execute_result"
    }
   ],
   "source": [
    "data['Geography'].unique()"
   ]
  },
  {
   "cell_type": "markdown",
   "metadata": {},
   "source": [
    "### Заменим значения 'nan' в столбце 'Tenure' на медианые значения"
   ]
  },
  {
   "cell_type": "code",
   "execution_count": 112,
   "metadata": {},
   "outputs": [
    {
     "name": "stdout",
     "output_type": "stream",
     "text": [
      "До замены nan:\n"
     ]
    },
    {
     "data": {
      "text/plain": [
       "array([ 2.,  1.,  8.,  7.,  4.,  6.,  3., 10.,  5.,  9.,  0., nan])"
      ]
     },
     "metadata": {},
     "output_type": "display_data"
    },
    {
     "data": {
      "text/plain": [
       "1.0     952\n",
       "2.0     950\n",
       "8.0     933\n",
       "3.0     928\n",
       "5.0     927\n",
       "7.0     925\n",
       "4.0     885\n",
       "9.0     882\n",
       "6.0     881\n",
       "10.0    446\n",
       "0.0     382\n",
       "Name: Tenure, dtype: int64"
      ]
     },
     "metadata": {},
     "output_type": "display_data"
    },
    {
     "name": "stdout",
     "output_type": "stream",
     "text": [
      "После замены nan:\n"
     ]
    },
    {
     "data": {
      "text/plain": [
       "array([ 2.,  1.,  8.,  7.,  4.,  6.,  3., 10.,  5.,  9.,  0.])"
      ]
     },
     "metadata": {},
     "output_type": "display_data"
    },
    {
     "data": {
      "text/plain": [
       "5.0     1836\n",
       "1.0      952\n",
       "2.0      950\n",
       "8.0      933\n",
       "3.0      928\n",
       "7.0      925\n",
       "4.0      885\n",
       "9.0      882\n",
       "6.0      881\n",
       "10.0     446\n",
       "0.0      382\n",
       "Name: Tenure, dtype: int64"
      ]
     },
     "metadata": {},
     "output_type": "display_data"
    }
   ],
   "source": [
    "#Так в столбце 'Tenure' есть значения 'nan'\n",
    "#Так как таких значений порядка 900 шт. и это 9% данных, то заменить их на ноль будет не корректно.\n",
    "#Поэтому будем заменять их на значение медианы. \n",
    "print(\"До замены nan:\")\n",
    "display(data['Tenure'].unique())\n",
    "display(data['Tenure'].sort_values(ascending=True).value_counts())\n",
    "\n",
    "mediana_tenure = data['Tenure'].median() #вычислим медиану\n",
    "data['Tenure'] = data['Tenure'].fillna(mediana_tenure) #заменим 'nan' на медианные значения.\n",
    "\n",
    "print(\"После замены nan:\")\n",
    "display(data['Tenure'].unique())\n",
    "display(data['Tenure'].sort_values(ascending=True).value_counts())"
   ]
  },
  {
   "cell_type": "markdown",
   "metadata": {},
   "source": [
    "*Итог:*\n",
    "\n",
    "- Таблица содержит 10000 строк и 14 столбцов;\n",
    "- Столбец 'Tenure' содержад пропуски, в связи с чем, пропуски были заменены на медианные значения;\n",
    "- RowNumber — столбец дублирует информацию стандартного датафрейма и не несетя ценности для обучения модели - поэтому столбец можно удалить;\n",
    "- CustomerId — является идентификатором пользователя (провели проверку на наличие дубликатов) и если отсутсвуют — стоблец также можно удалить;\n",
    "- Surname — является идентифицирующей пользователя информацией, но не несет ценности для качества будущей модели — столбец можно удалить;\n",
    "- CreditScore — следует проверить распределение и сохранить данный столбец;\n",
    "- Geography — всего 3 уникальных значения France', 'Spain', 'Germany' — выполнить преобразование OHE / ordinal encoding;\n",
    "- Gender — значение преобразовать — OHE / ordinal encoding;\n",
    "- Age — Exited — тип данных верный."
   ]
  },
  {
   "cell_type": "markdown",
   "metadata": {},
   "source": [
    "## Исследование задачи"
   ]
  },
  {
   "cell_type": "markdown",
   "metadata": {},
   "source": [
    "### Подготовка данных для обучения"
   ]
  },
  {
   "cell_type": "code",
   "execution_count": 113,
   "metadata": {},
   "outputs": [
    {
     "data": {
      "text/html": [
       "<div>\n",
       "<style scoped>\n",
       "    .dataframe tbody tr th:only-of-type {\n",
       "        vertical-align: middle;\n",
       "    }\n",
       "\n",
       "    .dataframe tbody tr th {\n",
       "        vertical-align: top;\n",
       "    }\n",
       "\n",
       "    .dataframe thead th {\n",
       "        text-align: right;\n",
       "    }\n",
       "</style>\n",
       "<table border=\"1\" class=\"dataframe\">\n",
       "  <thead>\n",
       "    <tr style=\"text-align: right;\">\n",
       "      <th></th>\n",
       "      <th>CreditScore</th>\n",
       "      <th>Geography</th>\n",
       "      <th>Gender</th>\n",
       "      <th>Age</th>\n",
       "      <th>Tenure</th>\n",
       "      <th>Balance</th>\n",
       "      <th>NumOfProducts</th>\n",
       "      <th>HasCrCard</th>\n",
       "      <th>IsActiveMember</th>\n",
       "      <th>EstimatedSalary</th>\n",
       "      <th>Exited</th>\n",
       "    </tr>\n",
       "  </thead>\n",
       "  <tbody>\n",
       "    <tr>\n",
       "      <th>0</th>\n",
       "      <td>619</td>\n",
       "      <td>France</td>\n",
       "      <td>Female</td>\n",
       "      <td>42</td>\n",
       "      <td>2.0</td>\n",
       "      <td>0.00</td>\n",
       "      <td>1</td>\n",
       "      <td>1</td>\n",
       "      <td>1</td>\n",
       "      <td>101348.88</td>\n",
       "      <td>1</td>\n",
       "    </tr>\n",
       "    <tr>\n",
       "      <th>1</th>\n",
       "      <td>608</td>\n",
       "      <td>Spain</td>\n",
       "      <td>Female</td>\n",
       "      <td>41</td>\n",
       "      <td>1.0</td>\n",
       "      <td>83807.86</td>\n",
       "      <td>1</td>\n",
       "      <td>0</td>\n",
       "      <td>1</td>\n",
       "      <td>112542.58</td>\n",
       "      <td>0</td>\n",
       "    </tr>\n",
       "    <tr>\n",
       "      <th>2</th>\n",
       "      <td>502</td>\n",
       "      <td>France</td>\n",
       "      <td>Female</td>\n",
       "      <td>42</td>\n",
       "      <td>8.0</td>\n",
       "      <td>159660.80</td>\n",
       "      <td>3</td>\n",
       "      <td>1</td>\n",
       "      <td>0</td>\n",
       "      <td>113931.57</td>\n",
       "      <td>1</td>\n",
       "    </tr>\n",
       "    <tr>\n",
       "      <th>3</th>\n",
       "      <td>699</td>\n",
       "      <td>France</td>\n",
       "      <td>Female</td>\n",
       "      <td>39</td>\n",
       "      <td>1.0</td>\n",
       "      <td>0.00</td>\n",
       "      <td>2</td>\n",
       "      <td>0</td>\n",
       "      <td>0</td>\n",
       "      <td>93826.63</td>\n",
       "      <td>0</td>\n",
       "    </tr>\n",
       "    <tr>\n",
       "      <th>4</th>\n",
       "      <td>850</td>\n",
       "      <td>Spain</td>\n",
       "      <td>Female</td>\n",
       "      <td>43</td>\n",
       "      <td>2.0</td>\n",
       "      <td>125510.82</td>\n",
       "      <td>1</td>\n",
       "      <td>1</td>\n",
       "      <td>1</td>\n",
       "      <td>79084.10</td>\n",
       "      <td>0</td>\n",
       "    </tr>\n",
       "  </tbody>\n",
       "</table>\n",
       "</div>"
      ],
      "text/plain": [
       "   CreditScore Geography  Gender  Age  Tenure    Balance  NumOfProducts  \\\n",
       "0          619    France  Female   42     2.0       0.00              1   \n",
       "1          608     Spain  Female   41     1.0   83807.86              1   \n",
       "2          502    France  Female   42     8.0  159660.80              3   \n",
       "3          699    France  Female   39     1.0       0.00              2   \n",
       "4          850     Spain  Female   43     2.0  125510.82              1   \n",
       "\n",
       "   HasCrCard  IsActiveMember  EstimatedSalary  Exited  \n",
       "0          1               1        101348.88       1  \n",
       "1          0               1        112542.58       0  \n",
       "2          1               0        113931.57       1  \n",
       "3          0               0         93826.63       0  \n",
       "4          1               1         79084.10       0  "
      ]
     },
     "execution_count": 113,
     "metadata": {},
     "output_type": "execute_result"
    }
   ],
   "source": [
    "#Обозначим новый датафрейм \"data_train\" — данные для обучения\n",
    "#Удалим столбцы, не представляющие ценностия для алгоритма \n",
    "data_drop = ['RowNumber','CustomerId', 'Surname']\n",
    "data_train = data.drop(data_drop, axis=1)\n",
    "data_train.head()"
   ]
  },
  {
   "cell_type": "code",
   "execution_count": 114,
   "metadata": {},
   "outputs": [
    {
     "data": {
      "text/plain": [
       "(10000, 11)"
      ]
     },
     "execution_count": 114,
     "metadata": {},
     "output_type": "execute_result"
    }
   ],
   "source": [
    "data_train.shape"
   ]
  },
  {
   "cell_type": "markdown",
   "metadata": {},
   "source": [
    "### One hot encoder для избежания дами-ловушки"
   ]
  },
  {
   "cell_type": "code",
   "execution_count": 115,
   "metadata": {},
   "outputs": [
    {
     "data": {
      "text/html": [
       "<div>\n",
       "<style scoped>\n",
       "    .dataframe tbody tr th:only-of-type {\n",
       "        vertical-align: middle;\n",
       "    }\n",
       "\n",
       "    .dataframe tbody tr th {\n",
       "        vertical-align: top;\n",
       "    }\n",
       "\n",
       "    .dataframe thead th {\n",
       "        text-align: right;\n",
       "    }\n",
       "</style>\n",
       "<table border=\"1\" class=\"dataframe\">\n",
       "  <thead>\n",
       "    <tr style=\"text-align: right;\">\n",
       "      <th></th>\n",
       "      <th>CreditScore</th>\n",
       "      <th>Age</th>\n",
       "      <th>Tenure</th>\n",
       "      <th>Balance</th>\n",
       "      <th>NumOfProducts</th>\n",
       "      <th>HasCrCard</th>\n",
       "      <th>IsActiveMember</th>\n",
       "      <th>EstimatedSalary</th>\n",
       "      <th>Exited</th>\n",
       "      <th>Geography_Germany</th>\n",
       "      <th>Geography_Spain</th>\n",
       "      <th>Gender_Male</th>\n",
       "    </tr>\n",
       "  </thead>\n",
       "  <tbody>\n",
       "    <tr>\n",
       "      <th>0</th>\n",
       "      <td>619</td>\n",
       "      <td>42</td>\n",
       "      <td>2.0</td>\n",
       "      <td>0.00</td>\n",
       "      <td>1</td>\n",
       "      <td>1</td>\n",
       "      <td>1</td>\n",
       "      <td>101348.88</td>\n",
       "      <td>1</td>\n",
       "      <td>0</td>\n",
       "      <td>0</td>\n",
       "      <td>0</td>\n",
       "    </tr>\n",
       "    <tr>\n",
       "      <th>1</th>\n",
       "      <td>608</td>\n",
       "      <td>41</td>\n",
       "      <td>1.0</td>\n",
       "      <td>83807.86</td>\n",
       "      <td>1</td>\n",
       "      <td>0</td>\n",
       "      <td>1</td>\n",
       "      <td>112542.58</td>\n",
       "      <td>0</td>\n",
       "      <td>0</td>\n",
       "      <td>1</td>\n",
       "      <td>0</td>\n",
       "    </tr>\n",
       "    <tr>\n",
       "      <th>2</th>\n",
       "      <td>502</td>\n",
       "      <td>42</td>\n",
       "      <td>8.0</td>\n",
       "      <td>159660.80</td>\n",
       "      <td>3</td>\n",
       "      <td>1</td>\n",
       "      <td>0</td>\n",
       "      <td>113931.57</td>\n",
       "      <td>1</td>\n",
       "      <td>0</td>\n",
       "      <td>0</td>\n",
       "      <td>0</td>\n",
       "    </tr>\n",
       "    <tr>\n",
       "      <th>3</th>\n",
       "      <td>699</td>\n",
       "      <td>39</td>\n",
       "      <td>1.0</td>\n",
       "      <td>0.00</td>\n",
       "      <td>2</td>\n",
       "      <td>0</td>\n",
       "      <td>0</td>\n",
       "      <td>93826.63</td>\n",
       "      <td>0</td>\n",
       "      <td>0</td>\n",
       "      <td>0</td>\n",
       "      <td>0</td>\n",
       "    </tr>\n",
       "    <tr>\n",
       "      <th>4</th>\n",
       "      <td>850</td>\n",
       "      <td>43</td>\n",
       "      <td>2.0</td>\n",
       "      <td>125510.82</td>\n",
       "      <td>1</td>\n",
       "      <td>1</td>\n",
       "      <td>1</td>\n",
       "      <td>79084.10</td>\n",
       "      <td>0</td>\n",
       "      <td>0</td>\n",
       "      <td>1</td>\n",
       "      <td>0</td>\n",
       "    </tr>\n",
       "  </tbody>\n",
       "</table>\n",
       "</div>"
      ],
      "text/plain": [
       "   CreditScore  Age  Tenure    Balance  NumOfProducts  HasCrCard  \\\n",
       "0          619   42     2.0       0.00              1          1   \n",
       "1          608   41     1.0   83807.86              1          0   \n",
       "2          502   42     8.0  159660.80              3          1   \n",
       "3          699   39     1.0       0.00              2          0   \n",
       "4          850   43     2.0  125510.82              1          1   \n",
       "\n",
       "   IsActiveMember  EstimatedSalary  Exited  Geography_Germany  \\\n",
       "0               1        101348.88       1                  0   \n",
       "1               1        112542.58       0                  0   \n",
       "2               0        113931.57       1                  0   \n",
       "3               0         93826.63       0                  0   \n",
       "4               1         79084.10       0                  0   \n",
       "\n",
       "   Geography_Spain  Gender_Male  \n",
       "0                0            0  \n",
       "1                1            0  \n",
       "2                0            0  \n",
       "3                0            0  \n",
       "4                1            0  "
      ]
     },
     "execution_count": 115,
     "metadata": {},
     "output_type": "execute_result"
    }
   ],
   "source": [
    "data_train = pd.get_dummies(data_train, drop_first=True)\n",
    "data_train.head()"
   ]
  },
  {
   "cell_type": "code",
   "execution_count": 116,
   "metadata": {},
   "outputs": [
    {
     "data": {
      "text/plain": [
       "(10000, 12)"
      ]
     },
     "execution_count": 116,
     "metadata": {},
     "output_type": "execute_result"
    }
   ],
   "source": [
    "data_train.shape"
   ]
  },
  {
   "cell_type": "markdown",
   "metadata": {},
   "source": [
    "**Результат:**\n",
    "\n",
    "- В новом датафрейме количество столбцов увеличилось на единицу(было 11 - стало 12) \n",
    "\n",
    "- Столбец Geography содержал 3 класса, Gender_Male 2 класса — в результате мы получили только 2 и 1 столбцов, что позволяет избежать дами-ловушки."
   ]
  },
  {
   "cell_type": "markdown",
   "metadata": {},
   "source": [
    "### Формируем выборки для обучения моделей\n",
    "\n",
    "- Обучающая:\n",
    "features_train,target_train\n",
    "\n",
    "\n",
    "- Валидационная:\n",
    "features_valid,target_valid\n",
    "\n",
    "\n",
    "- Тестовая:\n",
    "features_test,target_test"
   ]
  },
  {
   "cell_type": "code",
   "execution_count": 117,
   "metadata": {},
   "outputs": [],
   "source": [
    "#Разделим на признаки и целевой признак\n",
    "features = data_train.drop('Exited', axis=1)\n",
    "target = data_train['Exited']"
   ]
  },
  {
   "cell_type": "code",
   "execution_count": 118,
   "metadata": {},
   "outputs": [],
   "source": [
    "#Валидационная 60%\n",
    "features_train, features_validtest, target_train, target_validtest = train_test_split(features,\n",
    "                                                    target,\n",
    "                                                    train_size=0.6,\n",
    "                                                    random_state=12345)"
   ]
  },
  {
   "cell_type": "code",
   "execution_count": 119,
   "metadata": {},
   "outputs": [],
   "source": [
    "#Валидационная и тестовая поровну по 20% от общей выборки\n",
    "features_valid, features_test, target_valid, target_test = train_test_split(features_validtest,\n",
    "                                                    target_validtest,\n",
    "                                                    train_size=0.5,\n",
    "                                                    random_state=12345)"
   ]
  },
  {
   "cell_type": "markdown",
   "metadata": {},
   "source": [
    "### Масштабирование признаков обучающей выборки"
   ]
  },
  {
   "cell_type": "code",
   "execution_count": 120,
   "metadata": {},
   "outputs": [],
   "source": [
    "#Для масштабирования методом scaler зафиксируем численные признаки\n",
    "numeric = ['CreditScore', 'Age', 'Tenure', 'Balance', 'NumOfProducts', 'EstimatedSalary']"
   ]
  },
  {
   "cell_type": "code",
   "execution_count": 121,
   "metadata": {},
   "outputs": [
    {
     "data": {
      "text/plain": [
       "StandardScaler()"
      ]
     },
     "execution_count": 121,
     "metadata": {},
     "output_type": "execute_result"
    }
   ],
   "source": [
    "scaler = StandardScaler()\n",
    "scaler.fit(features_train[numeric])"
   ]
  },
  {
   "cell_type": "code",
   "execution_count": 122,
   "metadata": {},
   "outputs": [
    {
     "data": {
      "text/html": [
       "<div>\n",
       "<style scoped>\n",
       "    .dataframe tbody tr th:only-of-type {\n",
       "        vertical-align: middle;\n",
       "    }\n",
       "\n",
       "    .dataframe tbody tr th {\n",
       "        vertical-align: top;\n",
       "    }\n",
       "\n",
       "    .dataframe thead th {\n",
       "        text-align: right;\n",
       "    }\n",
       "</style>\n",
       "<table border=\"1\" class=\"dataframe\">\n",
       "  <thead>\n",
       "    <tr style=\"text-align: right;\">\n",
       "      <th></th>\n",
       "      <th>CreditScore</th>\n",
       "      <th>Age</th>\n",
       "      <th>Tenure</th>\n",
       "      <th>Balance</th>\n",
       "      <th>NumOfProducts</th>\n",
       "      <th>HasCrCard</th>\n",
       "      <th>IsActiveMember</th>\n",
       "      <th>EstimatedSalary</th>\n",
       "      <th>Geography_Germany</th>\n",
       "      <th>Geography_Spain</th>\n",
       "      <th>Gender_Male</th>\n",
       "    </tr>\n",
       "  </thead>\n",
       "  <tbody>\n",
       "    <tr>\n",
       "      <th>7479</th>\n",
       "      <td>-0.886751</td>\n",
       "      <td>-0.373192</td>\n",
       "      <td>1.082277</td>\n",
       "      <td>1.232271</td>\n",
       "      <td>-0.891560</td>\n",
       "      <td>1</td>\n",
       "      <td>0</td>\n",
       "      <td>-0.187705</td>\n",
       "      <td>0</td>\n",
       "      <td>1</td>\n",
       "      <td>1</td>\n",
       "    </tr>\n",
       "    <tr>\n",
       "      <th>3411</th>\n",
       "      <td>0.608663</td>\n",
       "      <td>-0.183385</td>\n",
       "      <td>1.082277</td>\n",
       "      <td>0.600563</td>\n",
       "      <td>-0.891560</td>\n",
       "      <td>0</td>\n",
       "      <td>0</td>\n",
       "      <td>-0.333945</td>\n",
       "      <td>0</td>\n",
       "      <td>0</td>\n",
       "      <td>0</td>\n",
       "    </tr>\n",
       "    <tr>\n",
       "      <th>6027</th>\n",
       "      <td>2.052152</td>\n",
       "      <td>0.480939</td>\n",
       "      <td>-0.737696</td>\n",
       "      <td>1.027098</td>\n",
       "      <td>0.830152</td>\n",
       "      <td>0</td>\n",
       "      <td>1</td>\n",
       "      <td>1.503095</td>\n",
       "      <td>1</td>\n",
       "      <td>0</td>\n",
       "      <td>1</td>\n",
       "    </tr>\n",
       "    <tr>\n",
       "      <th>1247</th>\n",
       "      <td>-1.457915</td>\n",
       "      <td>-1.417129</td>\n",
       "      <td>0.354288</td>\n",
       "      <td>-1.233163</td>\n",
       "      <td>0.830152</td>\n",
       "      <td>1</td>\n",
       "      <td>0</td>\n",
       "      <td>-1.071061</td>\n",
       "      <td>0</td>\n",
       "      <td>0</td>\n",
       "      <td>1</td>\n",
       "    </tr>\n",
       "    <tr>\n",
       "      <th>3716</th>\n",
       "      <td>0.130961</td>\n",
       "      <td>-1.132419</td>\n",
       "      <td>-1.101690</td>\n",
       "      <td>1.140475</td>\n",
       "      <td>-0.891560</td>\n",
       "      <td>0</td>\n",
       "      <td>0</td>\n",
       "      <td>1.524268</td>\n",
       "      <td>1</td>\n",
       "      <td>0</td>\n",
       "      <td>0</td>\n",
       "    </tr>\n",
       "  </tbody>\n",
       "</table>\n",
       "</div>"
      ],
      "text/plain": [
       "      CreditScore       Age    Tenure   Balance  NumOfProducts  HasCrCard  \\\n",
       "7479    -0.886751 -0.373192  1.082277  1.232271      -0.891560          1   \n",
       "3411     0.608663 -0.183385  1.082277  0.600563      -0.891560          0   \n",
       "6027     2.052152  0.480939 -0.737696  1.027098       0.830152          0   \n",
       "1247    -1.457915 -1.417129  0.354288 -1.233163       0.830152          1   \n",
       "3716     0.130961 -1.132419 -1.101690  1.140475      -0.891560          0   \n",
       "\n",
       "      IsActiveMember  EstimatedSalary  Geography_Germany  Geography_Spain  \\\n",
       "7479               0        -0.187705                  0                1   \n",
       "3411               0        -0.333945                  0                0   \n",
       "6027               1         1.503095                  1                0   \n",
       "1247               0        -1.071061                  0                0   \n",
       "3716               0         1.524268                  1                0   \n",
       "\n",
       "      Gender_Male  \n",
       "7479            1  \n",
       "3411            0  \n",
       "6027            1  \n",
       "1247            1  \n",
       "3716            0  "
      ]
     },
     "execution_count": 122,
     "metadata": {},
     "output_type": "execute_result"
    }
   ],
   "source": [
    "#Масштабируем числ признаки обучающей выборки\n",
    "features_train[numeric] = scaler.transform(features_train[numeric])\n",
    "features_train.head()"
   ]
  },
  {
   "cell_type": "code",
   "execution_count": 123,
   "metadata": {},
   "outputs": [
    {
     "data": {
      "text/html": [
       "<div>\n",
       "<style scoped>\n",
       "    .dataframe tbody tr th:only-of-type {\n",
       "        vertical-align: middle;\n",
       "    }\n",
       "\n",
       "    .dataframe tbody tr th {\n",
       "        vertical-align: top;\n",
       "    }\n",
       "\n",
       "    .dataframe thead th {\n",
       "        text-align: right;\n",
       "    }\n",
       "</style>\n",
       "<table border=\"1\" class=\"dataframe\">\n",
       "  <thead>\n",
       "    <tr style=\"text-align: right;\">\n",
       "      <th></th>\n",
       "      <th>CreditScore</th>\n",
       "      <th>Age</th>\n",
       "      <th>Tenure</th>\n",
       "      <th>Balance</th>\n",
       "      <th>NumOfProducts</th>\n",
       "      <th>HasCrCard</th>\n",
       "      <th>IsActiveMember</th>\n",
       "      <th>EstimatedSalary</th>\n",
       "      <th>Geography_Germany</th>\n",
       "      <th>Geography_Spain</th>\n",
       "      <th>Gender_Male</th>\n",
       "    </tr>\n",
       "  </thead>\n",
       "  <tbody>\n",
       "    <tr>\n",
       "      <th>8532</th>\n",
       "      <td>-0.699824</td>\n",
       "      <td>-0.373192</td>\n",
       "      <td>-1.101690</td>\n",
       "      <td>-1.233163</td>\n",
       "      <td>0.830152</td>\n",
       "      <td>1</td>\n",
       "      <td>0</td>\n",
       "      <td>-0.015173</td>\n",
       "      <td>0</td>\n",
       "      <td>0</td>\n",
       "      <td>0</td>\n",
       "    </tr>\n",
       "    <tr>\n",
       "      <th>5799</th>\n",
       "      <td>-0.284431</td>\n",
       "      <td>0.575842</td>\n",
       "      <td>-0.737696</td>\n",
       "      <td>-1.233163</td>\n",
       "      <td>-0.891560</td>\n",
       "      <td>1</td>\n",
       "      <td>1</td>\n",
       "      <td>1.471724</td>\n",
       "      <td>0</td>\n",
       "      <td>0</td>\n",
       "      <td>0</td>\n",
       "    </tr>\n",
       "    <tr>\n",
       "      <th>5511</th>\n",
       "      <td>0.151731</td>\n",
       "      <td>-0.657902</td>\n",
       "      <td>-1.829679</td>\n",
       "      <td>0.438711</td>\n",
       "      <td>-0.891560</td>\n",
       "      <td>1</td>\n",
       "      <td>0</td>\n",
       "      <td>-1.367107</td>\n",
       "      <td>1</td>\n",
       "      <td>0</td>\n",
       "      <td>1</td>\n",
       "    </tr>\n",
       "    <tr>\n",
       "      <th>7365</th>\n",
       "      <td>-0.876366</td>\n",
       "      <td>-0.278288</td>\n",
       "      <td>1.810266</td>\n",
       "      <td>1.239884</td>\n",
       "      <td>-0.891560</td>\n",
       "      <td>1</td>\n",
       "      <td>1</td>\n",
       "      <td>-0.786517</td>\n",
       "      <td>0</td>\n",
       "      <td>1</td>\n",
       "      <td>0</td>\n",
       "    </tr>\n",
       "    <tr>\n",
       "      <th>7367</th>\n",
       "      <td>-0.481743</td>\n",
       "      <td>0.291132</td>\n",
       "      <td>1.810266</td>\n",
       "      <td>-1.233163</td>\n",
       "      <td>0.830152</td>\n",
       "      <td>1</td>\n",
       "      <td>0</td>\n",
       "      <td>1.358533</td>\n",
       "      <td>0</td>\n",
       "      <td>1</td>\n",
       "      <td>1</td>\n",
       "    </tr>\n",
       "  </tbody>\n",
       "</table>\n",
       "</div>"
      ],
      "text/plain": [
       "      CreditScore       Age    Tenure   Balance  NumOfProducts  HasCrCard  \\\n",
       "8532    -0.699824 -0.373192 -1.101690 -1.233163       0.830152          1   \n",
       "5799    -0.284431  0.575842 -0.737696 -1.233163      -0.891560          1   \n",
       "5511     0.151731 -0.657902 -1.829679  0.438711      -0.891560          1   \n",
       "7365    -0.876366 -0.278288  1.810266  1.239884      -0.891560          1   \n",
       "7367    -0.481743  0.291132  1.810266 -1.233163       0.830152          1   \n",
       "\n",
       "      IsActiveMember  EstimatedSalary  Geography_Germany  Geography_Spain  \\\n",
       "8532               0        -0.015173                  0                0   \n",
       "5799               1         1.471724                  0                0   \n",
       "5511               0        -1.367107                  1                0   \n",
       "7365               1        -0.786517                  0                1   \n",
       "7367               0         1.358533                  0                1   \n",
       "\n",
       "      Gender_Male  \n",
       "8532            0  \n",
       "5799            0  \n",
       "5511            1  \n",
       "7365            0  \n",
       "7367            1  "
      ]
     },
     "execution_count": 123,
     "metadata": {},
     "output_type": "execute_result"
    }
   ],
   "source": [
    "#Масштабируем численные признаки валидационной выборки \n",
    "features_valid[numeric] = scaler.transform(features_valid[numeric])\n",
    "features_valid.head()"
   ]
  },
  {
   "cell_type": "code",
   "execution_count": 124,
   "metadata": {},
   "outputs": [
    {
     "data": {
      "text/html": [
       "<div>\n",
       "<style scoped>\n",
       "    .dataframe tbody tr th:only-of-type {\n",
       "        vertical-align: middle;\n",
       "    }\n",
       "\n",
       "    .dataframe tbody tr th {\n",
       "        vertical-align: top;\n",
       "    }\n",
       "\n",
       "    .dataframe thead th {\n",
       "        text-align: right;\n",
       "    }\n",
       "</style>\n",
       "<table border=\"1\" class=\"dataframe\">\n",
       "  <thead>\n",
       "    <tr style=\"text-align: right;\">\n",
       "      <th></th>\n",
       "      <th>CreditScore</th>\n",
       "      <th>Age</th>\n",
       "      <th>Tenure</th>\n",
       "      <th>Balance</th>\n",
       "      <th>NumOfProducts</th>\n",
       "      <th>HasCrCard</th>\n",
       "      <th>IsActiveMember</th>\n",
       "      <th>EstimatedSalary</th>\n",
       "      <th>Geography_Germany</th>\n",
       "      <th>Geography_Spain</th>\n",
       "      <th>Gender_Male</th>\n",
       "    </tr>\n",
       "  </thead>\n",
       "  <tbody>\n",
       "    <tr>\n",
       "      <th>7041</th>\n",
       "      <td>-2.226392</td>\n",
       "      <td>-0.088482</td>\n",
       "      <td>-1.101690</td>\n",
       "      <td>-1.233163</td>\n",
       "      <td>0.830152</td>\n",
       "      <td>1</td>\n",
       "      <td>0</td>\n",
       "      <td>0.647083</td>\n",
       "      <td>0</td>\n",
       "      <td>0</td>\n",
       "      <td>1</td>\n",
       "    </tr>\n",
       "    <tr>\n",
       "      <th>5709</th>\n",
       "      <td>-0.087120</td>\n",
       "      <td>0.006422</td>\n",
       "      <td>1.446272</td>\n",
       "      <td>-1.233163</td>\n",
       "      <td>-0.891560</td>\n",
       "      <td>1</td>\n",
       "      <td>0</td>\n",
       "      <td>-1.658410</td>\n",
       "      <td>0</td>\n",
       "      <td>0</td>\n",
       "      <td>0</td>\n",
       "    </tr>\n",
       "    <tr>\n",
       "      <th>7117</th>\n",
       "      <td>-0.917905</td>\n",
       "      <td>-0.752805</td>\n",
       "      <td>-0.009707</td>\n",
       "      <td>0.722307</td>\n",
       "      <td>-0.891560</td>\n",
       "      <td>1</td>\n",
       "      <td>1</td>\n",
       "      <td>-1.369334</td>\n",
       "      <td>0</td>\n",
       "      <td>1</td>\n",
       "      <td>1</td>\n",
       "    </tr>\n",
       "    <tr>\n",
       "      <th>7775</th>\n",
       "      <td>-0.253277</td>\n",
       "      <td>0.101325</td>\n",
       "      <td>1.810266</td>\n",
       "      <td>-1.233163</td>\n",
       "      <td>0.830152</td>\n",
       "      <td>1</td>\n",
       "      <td>0</td>\n",
       "      <td>0.075086</td>\n",
       "      <td>0</td>\n",
       "      <td>1</td>\n",
       "      <td>1</td>\n",
       "    </tr>\n",
       "    <tr>\n",
       "      <th>8735</th>\n",
       "      <td>0.785204</td>\n",
       "      <td>-0.847708</td>\n",
       "      <td>1.810266</td>\n",
       "      <td>0.615625</td>\n",
       "      <td>-0.891560</td>\n",
       "      <td>0</td>\n",
       "      <td>1</td>\n",
       "      <td>-1.070919</td>\n",
       "      <td>0</td>\n",
       "      <td>0</td>\n",
       "      <td>1</td>\n",
       "    </tr>\n",
       "  </tbody>\n",
       "</table>\n",
       "</div>"
      ],
      "text/plain": [
       "      CreditScore       Age    Tenure   Balance  NumOfProducts  HasCrCard  \\\n",
       "7041    -2.226392 -0.088482 -1.101690 -1.233163       0.830152          1   \n",
       "5709    -0.087120  0.006422  1.446272 -1.233163      -0.891560          1   \n",
       "7117    -0.917905 -0.752805 -0.009707  0.722307      -0.891560          1   \n",
       "7775    -0.253277  0.101325  1.810266 -1.233163       0.830152          1   \n",
       "8735     0.785204 -0.847708  1.810266  0.615625      -0.891560          0   \n",
       "\n",
       "      IsActiveMember  EstimatedSalary  Geography_Germany  Geography_Spain  \\\n",
       "7041               0         0.647083                  0                0   \n",
       "5709               0        -1.658410                  0                0   \n",
       "7117               1        -1.369334                  0                1   \n",
       "7775               0         0.075086                  0                1   \n",
       "8735               1        -1.070919                  0                0   \n",
       "\n",
       "      Gender_Male  \n",
       "7041            1  \n",
       "5709            0  \n",
       "7117            1  \n",
       "7775            1  \n",
       "8735            1  "
      ]
     },
     "execution_count": 124,
     "metadata": {},
     "output_type": "execute_result"
    }
   ],
   "source": [
    "#Масштабируем численные признаки тестовой выборки \n",
    "features_test[numeric] = scaler.transform(features_test[numeric])\n",
    "features_test.head()"
   ]
  },
  {
   "cell_type": "markdown",
   "metadata": {},
   "source": [
    "### Переход к обучению моделей"
   ]
  },
  {
   "cell_type": "code",
   "execution_count": 125,
   "metadata": {},
   "outputs": [],
   "source": [
    "def all_models_accuracy(features_train, target_train, features_valid, target_valid):\n",
    "    model_DTC = DecisionTreeClassifier(random_state=1515)\n",
    "    DTC_score = model_DTC.fit(features_train, target_train).score(features_valid, target_valid)\n",
    "    \n",
    "    model_RFC = RandomForestClassifier(max_depth=7, n_estimators=43, min_samples_leaf=3, random_state=1515)\n",
    "    RFC_score = model_RFC.fit(features_train, target_train).score(features_valid, target_valid)\n",
    "    \n",
    "    model_LgR = LogisticRegression(solver = 'liblinear')\n",
    "    LgR_score = model_LgR.fit(features_train, target_train).score(features_valid, target_valid)\n",
    "    print(\"Точность: \" '\\n' \"Дерево решений\", DTC_score, '\\n' \"Случайный лес \", RFC_score, '\\n' \"Логистческая регрессия\", LgR_score)"
   ]
  },
  {
   "cell_type": "code",
   "execution_count": 127,
   "metadata": {},
   "outputs": [
    {
     "name": "stdout",
     "output_type": "stream",
     "text": [
      "Точность: \n",
      "Дерево решений 0.79 \n",
      "Случайный лес  0.8585 \n",
      "Логистческая регрессия 0.802\n"
     ]
    }
   ],
   "source": [
    "all_models_accuracy(features_train, target_train, features_valid, target_valid)"
   ]
  },
  {
   "cell_type": "markdown",
   "metadata": {},
   "source": [
    "### Исследование баланса классов"
   ]
  },
  {
   "cell_type": "code",
   "execution_count": 128,
   "metadata": {},
   "outputs": [
    {
     "data": {
      "text/plain": [
       "0    0.800667\n",
       "1    0.199333\n",
       "Name: Exited, dtype: float64"
      ]
     },
     "execution_count": 128,
     "metadata": {},
     "output_type": "execute_result"
    }
   ],
   "source": [
    "target_train.value_counts(normalize = 1)"
   ]
  },
  {
   "cell_type": "code",
   "execution_count": 129,
   "metadata": {},
   "outputs": [
    {
     "data": {
      "image/png": "[encoded data removed]",
      "text/plain": [
       "<Figure size 360x360 with 1 Axes>"
      ]
     },
     "metadata": {
      "needs_background": "light"
     },
     "output_type": "display_data"
    }
   ],
   "source": [
    "# Построим диаграмму баланса классов\n",
    "target_train.plot(kind ='hist', bins=2, figsize=(5,5), title = 'Соотношение оттока клиентов');"
   ]
  },
  {
   "cell_type": "markdown",
   "metadata": {},
   "source": [
    "*Результат:*\n",
    "\n",
    "- Наблюдается дисбаланс классов, значений 1 - 20%, в значений 0 - 80% следовательно пользоваться Accuracy для оценки модели невозможно, поэтому для оценки модели будем использовать параметр f1."
   ]
  },
  {
   "cell_type": "markdown",
   "metadata": {},
   "source": [
    "### Исследование моделей без учета дисбаланса\n",
    "\n",
    "Проверка качества моделей до борьбы с дисбалансом"
   ]
  },
  {
   "cell_type": "code",
   "execution_count": 130,
   "metadata": {},
   "outputs": [],
   "source": [
    "#Заранее напишем функцию для изучия полноты, точности и F1-меры\n",
    "def rec_prec_f1(target_valid, prediction):\n",
    "    print(\"Полнота\" , recall_score(target_valid, prediction))\n",
    "    print(\"Точность\", precision_score(target_valid, prediction))\n",
    "    print(\"F1-мера\", f1_score(target_valid, prediction))"
   ]
  },
  {
   "cell_type": "code",
   "execution_count": 131,
   "metadata": {},
   "outputs": [],
   "source": [
    "# Функция для отображения соотношения ответов моделей (сколько 0, сколько 1)\n",
    "def all_models_share(features_train, target_train, features_valid, target_valid):\n",
    "    model_DTC = DecisionTreeClassifier(random_state=1515)\n",
    "    model_DTC.fit(features_train, target_train)\n",
    "    DTC_share = pd.Series(model_DTC.predict(features_valid)).value_counts(normalize = 1)\n",
    "    \n",
    "    \n",
    "    \n",
    "    model_RFC = RandomForestClassifier(random_state=1515, n_estimators = 100)\n",
    "    model_RFC.fit(features_train, target_train)\n",
    "    RFC_share = pd.Series(model_RFC.predict(features_valid)).value_counts(normalize = 1)\n",
    "    \n",
    "    model_LgR = LogisticRegression(solver = 'liblinear')\n",
    "    model_LgR.fit(features_train, target_train)\n",
    "    LgR_share = pd.Series(model_LgR.predict(features_valid)).value_counts(normalize = 1)\n",
    "    \n",
    "\n",
    "    \n",
    "    print(\"Доли ответов: \" '\\n' \"Дерево решений\", DTC_share,'\\n' \"Случайный лес \", RFC_share, '\\n' \"Логистческая регрессия\", LgR_share , end='')"
   ]
  },
  {
   "cell_type": "code",
   "execution_count": 132,
   "metadata": {},
   "outputs": [
    {
     "name": "stdout",
     "output_type": "stream",
     "text": [
      "Доли ответов: \n",
      "Дерево решений 0    0.795\n",
      "1    0.205\n",
      "dtype: float64 \n",
      "Случайный лес  0    0.874\n",
      "1    0.126\n",
      "dtype: float64 \n",
      "Логистческая регрессия 0    0.913\n",
      "1    0.087\n",
      "dtype: float64"
     ]
    }
   ],
   "source": [
    "#Применим функцию отображения соотношения ответов моделей\n",
    "all_models_share(features_train, target_train, features_valid, target_valid)"
   ]
  },
  {
   "cell_type": "markdown",
   "metadata": {},
   "source": [
    "**Результат:**\n",
    "\n",
    "- Логистичесая регрессия показывала самую высокую точность, далее случайный лес и в конце дерево решений;\n",
    "\n",
    "- С учетом дисбаланса результата неудивительно, что модели с большой вероятностью будут выдавать ответ 0, построим матрицы ошибок для моделей."
   ]
  },
  {
   "cell_type": "markdown",
   "metadata": {},
   "source": [
    "#### Линейная регрессия без дислабанса"
   ]
  },
  {
   "cell_type": "code",
   "execution_count": 140,
   "metadata": {},
   "outputs": [
    {
     "data": {
      "text/plain": [
       "array([[1506,   76],\n",
       "       [ 320,   98]])"
      ]
     },
     "execution_count": 140,
     "metadata": {},
     "output_type": "execute_result"
    }
   ],
   "source": [
    "#Матрица ошибок для логистической регрессии\n",
    "model_LgR = LogisticRegression(solver = 'liblinear')\n",
    "model_LgR.fit(features_train, target_train)\n",
    "LgR_prediction = model_LgR.predict(features_valid)\n",
    "confusion_matrix(target_valid, LgR_prediction)"
   ]
  },
  {
   "cell_type": "code",
   "execution_count": 141,
   "metadata": {},
   "outputs": [
    {
     "name": "stdout",
     "output_type": "stream",
     "text": [
      "Полнота 0.23444976076555024\n",
      "Точность 0.5632183908045977\n",
      "F1-мера 0.33108108108108103\n"
     ]
    }
   ],
   "source": [
    "rec_prec_f1(target_valid, LgR_prediction)"
   ]
  },
  {
   "cell_type": "code",
   "execution_count": 142,
   "metadata": {},
   "outputs": [
    {
     "data": {
      "text/plain": [
       "0.7587512627102753"
      ]
     },
     "execution_count": 142,
     "metadata": {},
     "output_type": "execute_result"
    }
   ],
   "source": [
    "#Для логистической регрессии расчитаем метрику AUC-ROC\n",
    "LgR_probabilities_one_valid = model_LgR.predict_proba(features_valid)[:, 1]\n",
    "\n",
    "auc_roc_LgR = roc_auc_score(target_valid, LgR_probabilities_one_valid)\n",
    "\n",
    "auc_roc_LgR"
   ]
  },
  {
   "cell_type": "markdown",
   "metadata": {},
   "source": [
    "#### Деревой решений без дисбаланса"
   ]
  },
  {
   "cell_type": "code",
   "execution_count": 137,
   "metadata": {},
   "outputs": [
    {
     "data": {
      "text/plain": [
       "array([[1376,  206],\n",
       "       [ 214,  204]])"
      ]
     },
     "execution_count": 137,
     "metadata": {},
     "output_type": "execute_result"
    }
   ],
   "source": [
    "#Матрица ошибок для дерево решений\n",
    "model_DTC = DecisionTreeClassifier(random_state=1515)\n",
    "model_DTC.fit(features_train, target_train)\n",
    "DTC_prediction = model_DTC.predict(features_valid)\n",
    "confusion_matrix(target_valid, DTC_prediction)"
   ]
  },
  {
   "cell_type": "code",
   "execution_count": 138,
   "metadata": {},
   "outputs": [
    {
     "name": "stdout",
     "output_type": "stream",
     "text": [
      "Полнота 0.4880382775119617\n",
      "Точность 0.4975609756097561\n",
      "F1-мера 0.49275362318840576\n"
     ]
    }
   ],
   "source": [
    "rec_prec_f1(target_valid, DTC_prediction)"
   ]
  },
  {
   "cell_type": "code",
   "execution_count": 139,
   "metadata": {},
   "outputs": [
    {
     "data": {
      "text/plain": [
       "0.6789116798432122"
      ]
     },
     "execution_count": 139,
     "metadata": {},
     "output_type": "execute_result"
    }
   ],
   "source": [
    "#Расчет roc_auc_DTC\n",
    "DTC_probabilities_one_valid = model_DTC.predict_proba(features_valid)[:, 1]\n",
    "\n",
    "auc_roc_DTC = roc_auc_score(target_valid, DTC_probabilities_one_valid)\n",
    "\n",
    "auc_roc_DTC"
   ]
  },
  {
   "cell_type": "markdown",
   "metadata": {},
   "source": [
    "**Результат:** \n",
    "\n",
    "- Матрица показала, что дерево решений склонно выдавать позитивные предсказания, очень высокое количество ложных позитивных предсказания (FP).\n",
    "- Видим низкое значение F1, следовательно низкое качество модели, проблема в точности."
   ]
  },
  {
   "cell_type": "markdown",
   "metadata": {},
   "source": [
    "#### Случайный лес без дисбаланса"
   ]
  },
  {
   "cell_type": "code",
   "execution_count": 134,
   "metadata": {},
   "outputs": [
    {
     "data": {
      "text/plain": [
       "array([[1526,   56],\n",
       "       [ 222,  196]])"
      ]
     },
     "execution_count": 134,
     "metadata": {},
     "output_type": "execute_result"
    }
   ],
   "source": [
    "model_RFC = RandomForestClassifier(random_state=1515, n_estimators = 100)\n",
    "model_RFC.fit(features_train, target_train)\n",
    "RFC_prediction = model_RFC.predict(features_valid)\n",
    "confusion_matrix(target_valid, RFC_prediction)"
   ]
  },
  {
   "cell_type": "code",
   "execution_count": 135,
   "metadata": {},
   "outputs": [
    {
     "name": "stdout",
     "output_type": "stream",
     "text": [
      "Полнота 0.4688995215311005\n",
      "Точность 0.7777777777777778\n",
      "F1-мера 0.5850746268656717\n"
     ]
    }
   ],
   "source": [
    "rec_prec_f1(target_valid, RFC_prediction)"
   ]
  },
  {
   "cell_type": "code",
   "execution_count": 136,
   "metadata": {},
   "outputs": [
    {
     "data": {
      "text/plain": [
       "0.8383821581306443"
      ]
     },
     "execution_count": 136,
     "metadata": {},
     "output_type": "execute_result"
    }
   ],
   "source": [
    "#Расчет roc_auc_RFC\n",
    "RFC_probabilities_one_valid = model_RFC.predict_proba(features_valid)[:, 1]\n",
    "\n",
    "auc_roc_RFC = roc_auc_score(target_valid, RFC_probabilities_one_valid)\n",
    "\n",
    "auc_roc_RFC"
   ]
  },
  {
   "cell_type": "markdown",
   "metadata": {},
   "source": [
    "**Результат:** \n",
    "\n",
    "- Случайный лес примерно равную пропорцию позитивных и негативных предсказаний, выдает заметно больше качественных предсказаний, но также сильно склоняется к ложно позитивным предсказаниям (FP). Точность и качество также низкое."
   ]
  },
  {
   "cell_type": "code",
   "execution_count": 143,
   "metadata": {},
   "outputs": [],
   "source": [
    "def plot_roc_curve(fper, tper):\n",
    "    plt.plot(fper, tper, color='red', label='ROC')\n",
    "    plt.plot([0, 1], [0, 1], color='green', linestyle='--')\n",
    "    plt.xlim([0.0, 1.0])\n",
    "    plt.ylim([0.0, 1.0])\n",
    "    plt.xlabel('False Positive Rate')\n",
    "    plt.ylabel('True Positive Rate')\n",
    "    plt.title('ROC-кривая')\n",
    "    plt.legend()\n",
    "    plt.show()"
   ]
  },
  {
   "cell_type": "code",
   "execution_count": 144,
   "metadata": {},
   "outputs": [
    {
     "data": {
      "image/png": "[encoded data removed]",
      "text/plain": [
       "<Figure size 432x288 with 1 Axes>"
      ]
     },
     "metadata": {
      "needs_background": "light"
     },
     "output_type": "display_data"
    }
   ],
   "source": [
    "fper, tper, thresholds = roc_curve(target_valid, LgR_probabilities_one_valid)\n",
    "plot_roc_curve(fper, tper)"
   ]
  },
  {
   "cell_type": "code",
   "execution_count": 145,
   "metadata": {},
   "outputs": [
    {
     "name": "stdout",
     "output_type": "stream",
     "text": [
      "Score 0.702\n",
      "AUC-ROC 0.7637310291013133\n"
     ]
    },
    {
     "data": {
      "image/png": "[encoded data removed]",
      "text/plain": [
       "<Figure size 432x288 with 1 Axes>"
      ]
     },
     "metadata": {
      "needs_background": "light"
     },
     "output_type": "display_data"
    }
   ],
   "source": [
    "#Попробуем обучать логистическую регресию сбалансировав классы\n",
    "model_LgR = LogisticRegression(solver = 'liblinear', class_weight='balanced')\n",
    "model_LgR.fit(features_train, target_train)\n",
    "LgR_probabilities_one_valid_class_weight = model_LgR.predict_proba(features_valid)[:, 1]\n",
    "print(\"Score\", model_LgR.score(features_valid, target_valid))\n",
    "print(\"AUC-ROC\", roc_auc_score(target_valid, LgR_probabilities_one_valid_class_weight))\n",
    "\n",
    "fper, tper, thresholds = roc_curve(target_valid, LgR_probabilities_one_valid_class_weight) \n",
    "plot_roc_curve(fper, tper)"
   ]
  },
  {
   "cell_type": "markdown",
   "metadata": {},
   "source": [
    "**Результат:**\n",
    "\n",
    "- Отстутсвие улучшений - тоже результат. Высокая точность модели объясняется высокой долей негативных ответов в валидационной выборке."
   ]
  },
  {
   "cell_type": "markdown",
   "metadata": {},
   "source": [
    "**Вывод:**\n",
    "\n",
    "Были исследованы модели 'линейная регрессия', 'дерево решений', 'случайный лес' без учета дисбаланса."
   ]
  },
  {
   "cell_type": "markdown",
   "metadata": {},
   "source": [
    "## Борьба с дисбалансом"
   ]
  },
  {
   "cell_type": "markdown",
   "metadata": {},
   "source": [
    "\n",
    "\n",
    "Как мы выяснили ранее в нашей выборке отрицательны ответов около 80% , положитительных около 20% - нам необходмо увеличить количество положительных ответов в 4 раза для достижения баланса, либо же уменьшить количество отрицательных ответов.\n",
    "\n",
    "- Разделим обучающую выборку на отрицательные и положительные объекты;\n",
    "\n",
    "- Скопируем несколько раз положительные объекты;\n",
    "\n",
    "- С учётом полученных данных создадим новую обучающую выборку;\n",
    "\n",
    "- Перемешаем данные: идущие друг за другом одинаковые вопросы не помогут обучению;\n",
    "\n",
    "- Обучим новые модели."
   ]
  },
  {
   "cell_type": "markdown",
   "metadata": {},
   "source": [
    "### Функция для увелечения класса в выборке"
   ]
  },
  {
   "cell_type": "code",
   "execution_count": 155,
   "metadata": {},
   "outputs": [],
   "source": [
    "#Создадим функцию для увеличения представленного класса в выборке \n",
    "def upsample(features, target, repeat, upsampled_сlass):\n",
    "    \"\"\"Функция принимаем значение признаков (features[]), целевого признака (target[]), repeat(int / float),\n",
    "    класс который будет увеличен (upsampled_сlass (0 or 1))\"\"\"\n",
    "    features_zeros = features[target == 0]\n",
    "    features_ones = features[target == 1]\n",
    "    target_zeros = target[target == 0]\n",
    "    target_ones = target[target == 1]\n",
    "    \n",
    "    if upsampled_сlass == 0:\n",
    "        features_upsampled = pd.concat([features_zeros]* repeat + [features_ones] )\n",
    "        target_upsampled = pd.concat([target_zeros]* repeat + [target_ones] )\n",
    "        features_upsampled, target_upsampled = shuffle(\n",
    "        features_upsampled, target_upsampled, random_state=12345)\n",
    "        \n",
    "    elif upsampled_сlass == 1:\n",
    "        features_upsampled = pd.concat([features_zeros] + [features_ones] * repeat)\n",
    "        target_upsampled = pd.concat([target_zeros] + [target_ones] * repeat)\n",
    "        features_upsampled, target_upsampled = shuffle(\n",
    "        features_upsampled, target_upsampled, random_state=12345)\n",
    "    else:\n",
    "        features_upsampled = 0\n",
    "        target_upsampled = 0  \n",
    "        \n",
    "        \n",
    "       \n",
    "    return features_upsampled, target_upsampled"
   ]
  },
  {
   "cell_type": "markdown",
   "metadata": {},
   "source": [
    "### Функция для уменьшения класса в выборке"
   ]
  },
  {
   "cell_type": "code",
   "execution_count": 156,
   "metadata": {},
   "outputs": [],
   "source": [
    "#Создадим функцию для уменьшения представленного класса в выборке \n",
    "def downsample(features, target, fraction):\n",
    "    features_zeros = features[target == 0]\n",
    "    features_ones = features[target == 1]\n",
    "    target_zeros = target[target == 0]\n",
    "    target_ones = target[target == 1]\n",
    "\n",
    "    features_downsampled = pd.concat(\n",
    "        [features_zeros.sample(frac=fraction, random_state=12345)] + [features_ones])\n",
    "    target_downsampled = pd.concat(\n",
    "        [target_zeros.sample(frac=fraction, random_state=12345)] + [target_ones])\n",
    "    \n",
    "    features_downsampled, target_downsampled = shuffle(\n",
    "        features_downsampled, target_downsampled, random_state=12345)\n",
    "    \n",
    "    return features_downsampled, target_downsampled"
   ]
  },
  {
   "cell_type": "code",
   "execution_count": 157,
   "metadata": {},
   "outputs": [],
   "source": [
    "features_downsampled_train, target_downsampled_train = downsample(features_train, target_train, fraction=0.25)"
   ]
  },
  {
   "cell_type": "markdown",
   "metadata": {},
   "source": [
    "### Тестирование функции"
   ]
  },
  {
   "cell_type": "code",
   "execution_count": 149,
   "metadata": {},
   "outputs": [
    {
     "name": "stdout",
     "output_type": "stream",
     "text": [
      "0    0.941407\n",
      "1    0.058593\n",
      "Name: Exited, dtype: float64\n",
      "(20412,)\n"
     ]
    }
   ],
   "source": [
    "#Протестируем функцию (верное значение)\n",
    "features_train_upsampled, target_train_upsampled = upsample(features_train, target_train, 4, 0)\n",
    "print(target_train_upsampled.value_counts(normalize = 1))\n",
    "print(target_train_upsampled.shape)"
   ]
  },
  {
   "cell_type": "code",
   "execution_count": 150,
   "metadata": {},
   "outputs": [
    {
     "data": {
      "text/plain": [
       "0"
      ]
     },
     "execution_count": 150,
     "metadata": {},
     "output_type": "execute_result"
    }
   ],
   "source": [
    "#Протестируем функцию (верное значение)\n",
    "features_train_upsampled, target_train_upsampled = upsample(features_train, target_train, 4, 3)\n",
    "features_train_upsampled"
   ]
  },
  {
   "cell_type": "markdown",
   "metadata": {},
   "source": [
    "### Использование функции unsample"
   ]
  },
  {
   "cell_type": "code",
   "execution_count": 151,
   "metadata": {},
   "outputs": [
    {
     "name": "stdout",
     "output_type": "stream",
     "text": [
      "0    0.501043\n",
      "1    0.498957\n",
      "Name: Exited, dtype: float64\n",
      "(9588,)\n"
     ]
    }
   ],
   "source": [
    "#Применим функцию upsample \n",
    "#увеличим количество положительных ответов в 4 раза\n",
    "features_train_upsampled, target_train_upsampled = upsample(features_train, target_train, 4, 1)\n",
    "print(target_train_upsampled.value_counts(normalize = 1))\n",
    "print(target_train_upsampled.shape)"
   ]
  },
  {
   "cell_type": "markdown",
   "metadata": {},
   "source": [
    "### Использование функции downsample"
   ]
  },
  {
   "cell_type": "code",
   "execution_count": 152,
   "metadata": {},
   "outputs": [
    {
     "name": "stdout",
     "output_type": "stream",
     "text": [
      "1    1196\n",
      "0     961\n",
      "Name: Exited, dtype: int64\n",
      "(2157,)\n"
     ]
    }
   ],
   "source": [
    "#Применим функцию downsample\n",
    "#Уменьшим количество пооложительных ответов в 4 раза\n",
    "#Протестируем функцию (верное значение)\n",
    "features_downsampled_train, target_downsampled_train = downsample(features_train, target_train, 0.2)\n",
    "print(target_downsampled_train.value_counts(normalize = 0))\n",
    "print(target_downsampled_train.shape)"
   ]
  },
  {
   "cell_type": "code",
   "execution_count": 154,
   "metadata": {},
   "outputs": [
    {
     "data": {
      "image/png": "[encoded data removed]",
      "text/plain": [
       "<Figure size 360x360 with 1 Axes>"
      ]
     },
     "metadata": {
      "needs_background": "light"
     },
     "output_type": "display_data"
    }
   ],
   "source": [
    "#Выигрышнее выглядит upsample с ним и будем работать\n",
    "target_train_upsampled.plot(kind ='hist', bins=3, figsize=(5,5));"
   ]
  },
  {
   "cell_type": "markdown",
   "metadata": {},
   "source": [
    "### Ообучение моделей на сбалансированной выборке"
   ]
  },
  {
   "cell_type": "code",
   "execution_count": 158,
   "metadata": {},
   "outputs": [
    {
     "name": "stdout",
     "output_type": "stream",
     "text": [
      "Точность: \n",
      "Дерево решений 0.79 \n",
      "Случайный лес  0.8585 \n",
      "Логистческая регрессия 0.802\n"
     ]
    }
   ],
   "source": [
    "#Точность моделей на выборке с дисбалансом\n",
    "all_models_accuracy(features_train, target_train, features_valid, target_valid)"
   ]
  },
  {
   "cell_type": "code",
   "execution_count": 159,
   "metadata": {},
   "outputs": [
    {
     "name": "stdout",
     "output_type": "stream",
     "text": [
      "Точность: \n",
      "Дерево решений 0.793 \n",
      "Случайный лес  0.8105 \n",
      "Логистческая регрессия 0.702\n"
     ]
    }
   ],
   "source": [
    "#Точность моделей на сбалансированной выборке\n",
    "all_models_accuracy(features_train_upsampled, target_train_upsampled, features_valid, target_valid)"
   ]
  },
  {
   "cell_type": "markdown",
   "metadata": {},
   "source": [
    "**Результат:**\n",
    "\n",
    "- Точност сильно не изменилась, проверим качество ответов."
   ]
  },
  {
   "cell_type": "code",
   "execution_count": 162,
   "metadata": {},
   "outputs": [
    {
     "name": "stdout",
     "output_type": "stream",
     "text": [
      "Полнота 0.6818181818181818\n",
      "Точность 0.3810160427807487\n",
      "F1-мера 0.4888507718696398\n"
     ]
    }
   ],
   "source": [
    "#Логистическая регрессия\n",
    "model_LgR_upsampled = LogisticRegression(solver = 'liblinear', class_weight='balanced')\n",
    "model_LgR_upsampled.fit(features_train_upsampled, target_train_upsampled)\n",
    "LgR_prediction_upsampled = model_LgR_upsampled.predict(features_valid)\n",
    "rec_prec_f1(target_valid, LgR_prediction_upsampled)"
   ]
  },
  {
   "cell_type": "code",
   "execution_count": 163,
   "metadata": {},
   "outputs": [
    {
     "data": {
      "text/plain": [
       "0.7636584421633327"
      ]
     },
     "execution_count": 163,
     "metadata": {},
     "output_type": "execute_result"
    }
   ],
   "source": [
    "#Расчитаем auc_roc для LgR на сбалансированной выборке\n",
    "LgR_upsampled_valid = model_LgR_upsampled.predict_proba(features_valid)[:, 1]\n",
    "\n",
    "auc_roc_LgR = roc_auc_score(target_valid, LgR_upsampled_valid)\n",
    "\n",
    "auc_roc_LgR"
   ]
  },
  {
   "cell_type": "code",
   "execution_count": 164,
   "metadata": {},
   "outputs": [
    {
     "name": "stdout",
     "output_type": "stream",
     "text": [
      "Полнота 0.7200956937799043\n",
      "Точность 0.5346358792184724\n",
      "F1-мера 0.6136595310907238\n"
     ]
    }
   ],
   "source": [
    "#Случайный лес\n",
    "model_RFC_upsampled = RandomForestClassifier(max_depth=7, n_estimators=43, min_samples_leaf=3, random_state=1515)\n",
    "model_RFC_upsampled.fit(features_train_upsampled, target_train_upsampled)\n",
    "RFC_prediction_upsampled = model_RFC_upsampled.predict(features_valid)\n",
    "rec_prec_f1(target_valid, RFC_prediction_upsampled)"
   ]
  },
  {
   "cell_type": "code",
   "execution_count": 165,
   "metadata": {},
   "outputs": [
    {
     "data": {
      "text/plain": [
       "0.8507499138030111"
      ]
     },
     "execution_count": 165,
     "metadata": {},
     "output_type": "execute_result"
    }
   ],
   "source": [
    "#Расчитаем auc_roc для RFC на сбалансированной выборке\n",
    "RFC_upsampled_valid = model_RFC_upsampled.predict_proba(features_valid)[:, 1]\n",
    "\n",
    "auc_roc_RFC = roc_auc_score(target_valid, RFC_upsampled_valid)\n",
    "\n",
    "auc_roc_RFC"
   ]
  },
  {
   "cell_type": "code",
   "execution_count": 160,
   "metadata": {},
   "outputs": [
    {
     "name": "stdout",
     "output_type": "stream",
     "text": [
      "Полнота 0.4784688995215311\n",
      "Точность 0.5050505050505051\n",
      "F1-мера 0.49140049140049147\n"
     ]
    }
   ],
   "source": [
    "#Решающее дерево\n",
    "model_DTC_upsampled = DecisionTreeClassifier(random_state=1515)\n",
    "model_DTC_upsampled.fit(features_train_upsampled, target_train_upsampled)\n",
    "DTC_prediction_upsampled = model_DTC_upsampled.predict(features_valid)\n",
    "rec_prec_f1(target_valid, DTC_prediction_upsampled)"
   ]
  },
  {
   "cell_type": "code",
   "execution_count": 161,
   "metadata": {},
   "outputs": [
    {
     "data": {
      "text/plain": [
       "0.6772875471058983"
      ]
     },
     "execution_count": 161,
     "metadata": {},
     "output_type": "execute_result"
    }
   ],
   "source": [
    "#Расчитаем auc_roc для DTC на сбалансированной выборке\n",
    "DTC_upsampled_valid = model_DTC_upsampled.predict_proba(features_valid)[:, 1]\n",
    "\n",
    "auc_roc_DTC = roc_auc_score(target_valid, DTC_upsampled_valid)\n",
    "\n",
    "auc_roc_DTC"
   ]
  },
  {
   "cell_type": "markdown",
   "metadata": {},
   "source": [
    "**Вывод:**\n",
    "\n",
    "- Показаели всех моделей улучшились;\n",
    "\n",
    "- Лучшие результаты показывает алгоритм случайный лес (RandomForestClassifier);\n",
    "\n",
    "- На валидационной выборке RandomForestClassifier уже показывает резульаты F1 меры = 0.61, что выше целевого целевого значения."
   ]
  },
  {
   "cell_type": "markdown",
   "metadata": {},
   "source": [
    "## Тестирование модели"
   ]
  },
  {
   "cell_type": "markdown",
   "metadata": {},
   "source": [
    "### Обучение финальной модели по результатам лучшей"
   ]
  },
  {
   "cell_type": "code",
   "execution_count": 166,
   "metadata": {},
   "outputs": [
    {
     "data": {
      "text/plain": [
       "RandomForestClassifier(class_weight='balanced', max_depth=7, n_estimators=43,\n",
       "                       random_state=12345)"
      ]
     },
     "execution_count": 166,
     "metadata": {},
     "output_type": "execute_result"
    }
   ],
   "source": [
    "#Обучим финальную модель\n",
    "model_RFC_final = RandomForestClassifier(\n",
    "    bootstrap = True, class_weight = 'balanced', max_depth= 7,  n_estimators = 43, random_state=12345)\n",
    "model_RFC_final.fit(features_train_upsampled, target_train_upsampled)"
   ]
  },
  {
   "cell_type": "code",
   "execution_count": 167,
   "metadata": {},
   "outputs": [
    {
     "name": "stdout",
     "output_type": "stream",
     "text": [
      "Полнота 0.7044917257683215\n",
      "Точность 0.5146804835924007\n",
      "F1-мера 0.594810379241517\n"
     ]
    }
   ],
   "source": [
    "model_RFC_final_prediction = model_RFC_final.predict(features_test)\n",
    "rec_prec_f1(target_test, model_RFC_final_prediction)"
   ]
  },
  {
   "cell_type": "code",
   "execution_count": 168,
   "metadata": {},
   "outputs": [
    {
     "data": {
      "text/plain": [
       "0.8506006107295926"
      ]
     },
     "execution_count": 168,
     "metadata": {},
     "output_type": "execute_result"
    }
   ],
   "source": [
    "#Расчитаем auc_roc для RFC на тестовой выборке\n",
    "model_RFC_final_valid = model_RFC_final.predict_proba(features_test)[:, 1]\n",
    "\n",
    "auc_roc_RFC = roc_auc_score(target_test, model_RFC_final_valid)\n",
    "\n",
    "auc_roc_RFC"
   ]
  },
  {
   "cell_type": "markdown",
   "metadata": {},
   "source": [
    "### Сравнение с константной моделью"
   ]
  },
  {
   "cell_type": "code",
   "execution_count": 169,
   "metadata": {},
   "outputs": [
    {
     "data": {
      "text/plain": [
       "0    2000\n",
       "dtype: int64"
      ]
     },
     "execution_count": 169,
     "metadata": {},
     "output_type": "execute_result"
    }
   ],
   "source": [
    "#Создаем константную модель\n",
    "target_predict_constant = pd.Series([0]*len(target_test))\n",
    "target_predict_constant.value_counts()"
   ]
  },
  {
   "cell_type": "code",
   "execution_count": 170,
   "metadata": {},
   "outputs": [
    {
     "name": "stdout",
     "output_type": "stream",
     "text": [
      "accuracy_score константой модели: 0.791\n",
      "accuracy_score финальной модели: 0.797\n",
      "AUC-ROC константой модели: 0.5\n",
      "AUC-ROC финальной модели: 0.8506006107295926\n"
     ]
    }
   ],
   "source": [
    "#Сравним показатель точности (accuracy_score) константной модели и финальной\n",
    "print('accuracy_score константой модели:', accuracy_score(target_valid, target_predict_constant))\n",
    "print('accuracy_score финальной модели:', accuracy_score(target_test, model_RFC_final_prediction))\n",
    "#Дополнительно сравним AUC-ROC — единственный параметр подающийся сравнению, потому что константная подель содержит только негативные ответы\n",
    "print('AUC-ROC константой модели:', roc_auc_score(target_valid, target_predict_constant))\n",
    "print('AUC-ROC финальной модели:', roc_auc_score(target_test, model_RFC_final_valid))"
   ]
  },
  {
   "cell_type": "markdown",
   "metadata": {},
   "source": [
    "- Финальная модель показывает результаты лучше, чем константная модель — модель можно считать адекватной."
   ]
  },
  {
   "cell_type": "markdown",
   "metadata": {},
   "source": [
    "**Вывод:**\n",
    "\n",
    "- В первоначальные данных наблюдался значительный дисбаланс (80% ответов целевого признака были негативными и только 20% позитивными), из-за чего обученная на этих данных модель не проходила проверку на адекватность. Все модели на первоначальных данных характеризовались высокой степенью ошибок и низким качеством взвешенной величины (F1) — модели показывали низкие результаты точности и полноты;\n",
    "\n",
    "\n",
    "- Был устранен дисбаланс классов в обучающей выборки методом upsampling — увеличили количество значений позитивного класса в 4 раза. Так мы достигли баланса классо в обучеющей выборке: \n",
    "            0    0.501043\n",
    "            1    0.498957\n",
    "\n",
    "- Рассмотрены варианты борьбы с дисбалансом функциями upsampling и downsampling;\n",
    "\n",
    "\n",
    "- На новых данных все модели показали результат выше, чем на несбалансированной выборке. Лучшие показатели были у модели случайного леса:\n",
    "\n",
    "     - Полнота 0.7200956937799043\n",
    "     - Точность 0.5346358792184724\n",
    "     - F1-мера 0.6136595310907238\n",
    "     - AUC-ROC 0.8507499138030111\n",
    "     \n",
    "      \n",
    "- Финальная модель прошла проверку на адекватность в сравнении с контантной моделью: \n",
    "    - aaccuracy_score константой модели: 0.791\n",
    "    - accuracy_score финальной модели: 0.797\n",
    "    - AUC-ROC константой модели: 0.5\n",
    "    - AUC-ROC финальной модели: 0.8506006107295926"
   ]
  },
  {
   "cell_type": "markdown",
   "metadata": {},
   "source": [
    "## Чек-лист готовности проекта"
   ]
  },
  {
   "cell_type": "markdown",
   "metadata": {},
   "source": [
    "Поставьте 'x' в выполненных пунктах. Далее нажмите Shift+Enter."
   ]
  },
  {
   "cell_type": "markdown",
   "metadata": {},
   "source": [
    "- [x]  Jupyter Notebook открыт\n",
    "- [x]  Весь код выполняется без ошибок\n",
    "- [x]  Ячейки с кодом расположены в порядке исполнения\n",
    "- [x]  Выполнен шаг 1: данные подготовлены\n",
    "- [x]  Выполнен шаг 2: задача исследована\n",
    "    - [x]  Исследован баланс классов\n",
    "    - [x]  Изучены модели без учёта дисбаланса\n",
    "    - [ ]  Написаны выводы по результатам исследования\n",
    "- [x]  Выполнен шаг 3: учтён дисбаланс\n",
    "    - [x]  Применено несколько способов борьбы с дисбалансом\n",
    "    - [ ]  Написаны выводы по результатам исследования\n",
    "- [x]  Выполнен шаг 4: проведено тестирование\n",
    "- [ ]  Удалось достичь *F1*-меры не менее 0.59\n",
    "- [x]  Исследована метрика *AUC-ROC*"
   ]
  }
 ],
 "metadata": {
  "ExecuteTimeLog": [
   {
    "duration": 174,
    "start_time": "2023-03-30T20:46:51.663Z"
   },
   {
    "duration": 1779,
    "start_time": "2023-03-30T20:48:45.651Z"
   },
   {
    "duration": 220,
    "start_time": "2023-03-30T20:49:50.540Z"
   },
   {
    "duration": 30,
    "start_time": "2023-03-30T20:49:52.197Z"
   },
   {
    "duration": 19,
    "start_time": "2023-03-30T20:52:24.219Z"
   },
   {
    "duration": 6,
    "start_time": "2023-03-30T20:55:09.721Z"
   },
   {
    "duration": 150,
    "start_time": "2023-03-30T20:58:55.912Z"
   },
   {
    "duration": 133,
    "start_time": "2023-03-30T20:59:02.992Z"
   },
   {
    "duration": 179,
    "start_time": "2023-03-30T21:02:16.505Z"
   },
   {
    "duration": 16,
    "start_time": "2023-03-30T21:02:50.006Z"
   },
   {
    "duration": 46,
    "start_time": "2023-03-30T21:02:51.309Z"
   },
   {
    "duration": 28,
    "start_time": "2023-03-30T21:02:52.385Z"
   },
   {
    "duration": 27,
    "start_time": "2023-03-30T21:02:54.489Z"
   },
   {
    "duration": 6,
    "start_time": "2023-03-30T21:02:56.333Z"
   },
   {
    "duration": 117,
    "start_time": "2023-03-30T21:02:58.424Z"
   },
   {
    "duration": 121,
    "start_time": "2023-03-30T21:03:00.693Z"
   },
   {
    "duration": 102,
    "start_time": "2023-03-30T21:03:19.623Z"
   },
   {
    "duration": 137,
    "start_time": "2023-03-30T21:04:21.842Z"
   },
   {
    "duration": 269,
    "start_time": "2023-03-30T21:05:01.544Z"
   },
   {
    "duration": 160,
    "start_time": "2023-03-30T21:14:27.560Z"
   },
   {
    "duration": 474044,
    "start_time": "2023-03-30T21:14:27.721Z"
   },
   {
    "duration": 318,
    "start_time": "2023-03-30T21:22:21.766Z"
   },
   {
    "duration": 331,
    "start_time": "2023-03-30T21:22:22.086Z"
   },
   {
    "duration": 15,
    "start_time": "2023-03-30T21:22:22.419Z"
   },
   {
    "duration": 355,
    "start_time": "2023-03-30T21:22:22.436Z"
   },
   {
    "duration": 346,
    "start_time": "2023-03-30T21:22:22.793Z"
   },
   {
    "duration": 9,
    "start_time": "2023-03-30T21:22:23.141Z"
   },
   {
    "duration": 505,
    "start_time": "2023-03-30T21:22:23.152Z"
   },
   {
    "duration": 481,
    "start_time": "2023-03-30T21:22:23.658Z"
   },
   {
    "duration": 50,
    "start_time": "2023-03-30T21:22:24.140Z"
   },
   {
    "duration": 374,
    "start_time": "2023-03-30T21:22:24.194Z"
   },
   {
    "duration": 369,
    "start_time": "2023-03-30T21:22:24.569Z"
   },
   {
    "duration": 127,
    "start_time": "2023-03-30T21:22:24.940Z"
   },
   {
    "duration": 5316,
    "start_time": "2023-03-31T18:57:54.851Z"
   },
   {
    "duration": 0,
    "start_time": "2023-03-31T18:58:00.169Z"
   },
   {
    "duration": 0,
    "start_time": "2023-03-31T18:58:00.170Z"
   },
   {
    "duration": 0,
    "start_time": "2023-03-31T18:58:00.170Z"
   },
   {
    "duration": 0,
    "start_time": "2023-03-31T18:58:00.171Z"
   },
   {
    "duration": 0,
    "start_time": "2023-03-31T18:58:00.172Z"
   },
   {
    "duration": 0,
    "start_time": "2023-03-31T18:58:00.173Z"
   },
   {
    "duration": 0,
    "start_time": "2023-03-31T18:58:00.174Z"
   },
   {
    "duration": 0,
    "start_time": "2023-03-31T18:58:00.175Z"
   },
   {
    "duration": 0,
    "start_time": "2023-03-31T18:58:00.176Z"
   },
   {
    "duration": 0,
    "start_time": "2023-03-31T18:58:00.177Z"
   },
   {
    "duration": 0,
    "start_time": "2023-03-31T18:58:00.178Z"
   },
   {
    "duration": 0,
    "start_time": "2023-03-31T18:58:00.179Z"
   },
   {
    "duration": 0,
    "start_time": "2023-03-31T18:58:00.180Z"
   },
   {
    "duration": 0,
    "start_time": "2023-03-31T18:58:00.181Z"
   },
   {
    "duration": 0,
    "start_time": "2023-03-31T18:58:00.182Z"
   },
   {
    "duration": 0,
    "start_time": "2023-03-31T18:58:00.182Z"
   },
   {
    "duration": 0,
    "start_time": "2023-03-31T18:58:00.183Z"
   },
   {
    "duration": 0,
    "start_time": "2023-03-31T18:58:00.184Z"
   },
   {
    "duration": 0,
    "start_time": "2023-03-31T18:58:00.185Z"
   },
   {
    "duration": 0,
    "start_time": "2023-03-31T18:58:00.186Z"
   },
   {
    "duration": 0,
    "start_time": "2023-03-31T18:58:00.187Z"
   },
   {
    "duration": 1575,
    "start_time": "2023-04-03T12:42:58.992Z"
   },
   {
    "duration": 87,
    "start_time": "2023-04-03T12:43:02.287Z"
   },
   {
    "duration": 34,
    "start_time": "2023-04-03T12:43:03.811Z"
   },
   {
    "duration": 28,
    "start_time": "2023-04-03T12:43:06.716Z"
   },
   {
    "duration": 8,
    "start_time": "2023-04-03T12:43:10.376Z"
   },
   {
    "duration": 12,
    "start_time": "2023-04-03T12:45:24.769Z"
   },
   {
    "duration": 118,
    "start_time": "2023-04-03T12:48:20.214Z"
   },
   {
    "duration": 28,
    "start_time": "2023-04-03T12:48:31.086Z"
   },
   {
    "duration": 15,
    "start_time": "2023-04-03T12:48:45.515Z"
   },
   {
    "duration": 4,
    "start_time": "2023-04-03T12:58:46.074Z"
   },
   {
    "duration": 35,
    "start_time": "2023-04-03T12:58:47.897Z"
   },
   {
    "duration": 25,
    "start_time": "2023-04-03T12:58:48.881Z"
   },
   {
    "duration": 12,
    "start_time": "2023-04-03T12:58:51.184Z"
   },
   {
    "duration": 18,
    "start_time": "2023-04-03T12:58:53.274Z"
   },
   {
    "duration": 4,
    "start_time": "2023-04-03T12:58:56.341Z"
   },
   {
    "duration": 142,
    "start_time": "2023-04-03T13:02:34.851Z"
   },
   {
    "duration": 11,
    "start_time": "2023-04-03T13:03:50.907Z"
   },
   {
    "duration": 16,
    "start_time": "2023-04-03T13:03:51.966Z"
   },
   {
    "duration": 10,
    "start_time": "2023-04-03T13:04:18.907Z"
   },
   {
    "duration": 10,
    "start_time": "2023-04-03T13:04:20.447Z"
   },
   {
    "duration": 10,
    "start_time": "2023-04-03T13:04:22.193Z"
   },
   {
    "duration": 56,
    "start_time": "2023-04-03T13:09:02.381Z"
   },
   {
    "duration": 137,
    "start_time": "2023-04-03T13:09:07.722Z"
   },
   {
    "duration": 5,
    "start_time": "2023-04-03T13:11:52.143Z"
   },
   {
    "duration": 9,
    "start_time": "2023-04-03T13:11:54.176Z"
   },
   {
    "duration": 14,
    "start_time": "2023-04-03T13:11:56.818Z"
   },
   {
    "duration": 30,
    "start_time": "2023-04-03T13:12:17.626Z"
   },
   {
    "duration": 64,
    "start_time": "2023-04-03T13:12:19.812Z"
   },
   {
    "duration": 256,
    "start_time": "2023-04-03T13:13:20.622Z"
   },
   {
    "duration": 17,
    "start_time": "2023-04-03T13:13:58.267Z"
   },
   {
    "duration": 17,
    "start_time": "2023-04-03T13:15:44.036Z"
   },
   {
    "duration": 14,
    "start_time": "2023-04-03T13:15:53.898Z"
   },
   {
    "duration": 391424,
    "start_time": "2023-04-03T13:15:55.665Z"
   },
   {
    "duration": 176,
    "start_time": "2023-04-03T13:22:27.091Z"
   },
   {
    "duration": 8,
    "start_time": "2023-04-03T13:22:27.276Z"
   },
   {
    "duration": 162,
    "start_time": "2023-04-03T13:22:27.287Z"
   },
   {
    "duration": 10,
    "start_time": "2023-04-03T13:22:27.451Z"
   },
   {
    "duration": 12,
    "start_time": "2023-04-03T13:26:16.631Z"
   },
   {
    "duration": 11,
    "start_time": "2023-04-03T13:26:24.144Z"
   },
   {
    "duration": 6,
    "start_time": "2023-04-03T13:26:32.317Z"
   },
   {
    "duration": 9,
    "start_time": "2023-04-03T13:26:39.070Z"
   },
   {
    "duration": 48,
    "start_time": "2023-04-03T13:26:45.268Z"
   },
   {
    "duration": 83,
    "start_time": "2023-04-03T13:27:12.218Z"
   },
   {
    "duration": 149,
    "start_time": "2023-04-03T13:27:14.793Z"
   },
   {
    "duration": 6031,
    "start_time": "2023-04-03T13:27:16.421Z"
   },
   {
    "duration": 4087,
    "start_time": "2023-04-03T13:28:51.121Z"
   },
   {
    "duration": 2882,
    "start_time": "2023-04-03T13:30:06.474Z"
   },
   {
    "duration": 4504,
    "start_time": "2023-04-03T13:31:19.689Z"
   },
   {
    "duration": 6376,
    "start_time": "2023-04-03T13:31:40.571Z"
   },
   {
    "duration": 336,
    "start_time": "2023-04-03T13:38:27.375Z"
   },
   {
    "duration": 5,
    "start_time": "2023-04-03T13:39:04.515Z"
   },
   {
    "duration": 11,
    "start_time": "2023-04-03T13:39:10.412Z"
   },
   {
    "duration": 5,
    "start_time": "2023-04-03T13:39:24.228Z"
   },
   {
    "duration": 14,
    "start_time": "2023-04-03T13:39:29.905Z"
   },
   {
    "duration": 57,
    "start_time": "2023-04-03T13:42:54.529Z"
   },
   {
    "duration": 395,
    "start_time": "2023-04-03T13:44:37.213Z"
   },
   {
    "duration": 4712,
    "start_time": "2023-04-03T13:45:02.994Z"
   },
   {
    "duration": 7205,
    "start_time": "2023-04-03T13:45:16.392Z"
   },
   {
    "duration": 252,
    "start_time": "2023-04-03T13:45:36.742Z"
   },
   {
    "duration": 10298,
    "start_time": "2023-04-03T13:46:20.330Z"
   },
   {
    "duration": 254,
    "start_time": "2023-04-03T13:46:46.794Z"
   },
   {
    "duration": 7,
    "start_time": "2023-04-03T13:47:25.775Z"
   },
   {
    "duration": 5,
    "start_time": "2023-04-03T13:47:32.027Z"
   },
   {
    "duration": 4,
    "start_time": "2023-04-03T13:47:35.531Z"
   },
   {
    "duration": 26,
    "start_time": "2023-04-03T13:48:04.425Z"
   },
   {
    "duration": 5,
    "start_time": "2023-04-03T13:48:07.311Z"
   },
   {
    "duration": 5,
    "start_time": "2023-04-03T13:48:10.214Z"
   },
   {
    "duration": 18,
    "start_time": "2023-04-03T13:48:53.690Z"
   },
   {
    "duration": 6,
    "start_time": "2023-04-03T13:48:57.949Z"
   },
   {
    "duration": 4,
    "start_time": "2023-04-03T13:49:12.089Z"
   },
   {
    "duration": 230,
    "start_time": "2023-04-03T13:49:22.660Z"
   },
   {
    "duration": 204,
    "start_time": "2023-04-03T13:49:27.687Z"
   },
   {
    "duration": 186,
    "start_time": "2023-04-03T13:49:32.789Z"
   },
   {
    "duration": 197,
    "start_time": "2023-04-03T13:49:44.714Z"
   },
   {
    "duration": 199,
    "start_time": "2023-04-03T13:49:47.823Z"
   },
   {
    "duration": 208,
    "start_time": "2023-04-03T13:49:50.986Z"
   },
   {
    "duration": 196,
    "start_time": "2023-04-03T13:49:59.931Z"
   },
   {
    "duration": 5,
    "start_time": "2023-04-03T13:50:42.222Z"
   },
   {
    "duration": 9,
    "start_time": "2023-04-03T13:50:48.187Z"
   },
   {
    "duration": 399,
    "start_time": "2023-04-03T13:59:24.102Z"
   },
   {
    "duration": 4704,
    "start_time": "2023-04-03T13:59:32.390Z"
   },
   {
    "duration": 10564,
    "start_time": "2023-04-03T13:59:40.425Z"
   },
   {
    "duration": 4,
    "start_time": "2023-04-03T14:01:05.927Z"
   },
   {
    "duration": 9,
    "start_time": "2023-04-03T14:01:09.103Z"
   },
   {
    "duration": 4,
    "start_time": "2023-04-03T14:11:51.913Z"
   },
   {
    "duration": 10,
    "start_time": "2023-04-03T14:11:54.057Z"
   },
   {
    "duration": 1580,
    "start_time": "2023-04-04T08:29:25.211Z"
   },
   {
    "duration": 81,
    "start_time": "2023-04-04T08:29:26.856Z"
   },
   {
    "duration": 33,
    "start_time": "2023-04-04T08:29:27.711Z"
   },
   {
    "duration": 42,
    "start_time": "2023-04-04T08:29:30.164Z"
   },
   {
    "duration": 12,
    "start_time": "2023-04-04T08:29:32.214Z"
   },
   {
    "duration": 25,
    "start_time": "2023-04-04T08:29:34.420Z"
   },
   {
    "duration": 5,
    "start_time": "2023-04-04T08:30:57.512Z"
   },
   {
    "duration": 4,
    "start_time": "2023-04-04T08:31:56.940Z"
   },
   {
    "duration": 67,
    "start_time": "2023-04-04T08:32:59.310Z"
   },
   {
    "duration": 123,
    "start_time": "2023-04-04T08:33:48.210Z"
   },
   {
    "duration": 15,
    "start_time": "2023-04-04T08:33:56.592Z"
   },
   {
    "duration": 4,
    "start_time": "2023-04-04T08:34:01.227Z"
   },
   {
    "duration": 42,
    "start_time": "2023-04-04T08:34:02.375Z"
   },
   {
    "duration": 24,
    "start_time": "2023-04-04T08:34:03.110Z"
   },
   {
    "duration": 39,
    "start_time": "2023-04-04T08:34:05.075Z"
   },
   {
    "duration": 11,
    "start_time": "2023-04-04T08:34:06.528Z"
   },
   {
    "duration": 5,
    "start_time": "2023-04-04T08:34:07.347Z"
   },
   {
    "duration": 17,
    "start_time": "2023-04-04T08:34:08.668Z"
   },
   {
    "duration": 5,
    "start_time": "2023-04-04T08:34:12.808Z"
   },
   {
    "duration": 13,
    "start_time": "2023-04-04T08:37:59.908Z"
   },
   {
    "duration": 14,
    "start_time": "2023-04-04T08:38:06.419Z"
   },
   {
    "duration": 4,
    "start_time": "2023-04-04T08:38:10.555Z"
   },
   {
    "duration": 36,
    "start_time": "2023-04-04T08:38:11.847Z"
   },
   {
    "duration": 24,
    "start_time": "2023-04-04T08:38:13.333Z"
   },
   {
    "duration": 40,
    "start_time": "2023-04-04T08:38:15.155Z"
   },
   {
    "duration": 11,
    "start_time": "2023-04-04T08:38:16.689Z"
   },
   {
    "duration": 6,
    "start_time": "2023-04-04T08:38:18.259Z"
   },
   {
    "duration": 20,
    "start_time": "2023-04-04T08:38:19.837Z"
   },
   {
    "duration": 13,
    "start_time": "2023-04-04T08:38:22.606Z"
   },
   {
    "duration": 20,
    "start_time": "2023-04-04T08:39:39.707Z"
   },
   {
    "duration": 5,
    "start_time": "2023-04-04T08:39:58.668Z"
   },
   {
    "duration": 4,
    "start_time": "2023-04-04T08:40:07.701Z"
   },
   {
    "duration": 17,
    "start_time": "2023-04-04T08:40:09.407Z"
   },
   {
    "duration": 4,
    "start_time": "2023-04-04T08:40:10.941Z"
   },
   {
    "duration": 14,
    "start_time": "2023-04-04T08:40:13.101Z"
   },
   {
    "duration": 5,
    "start_time": "2023-04-04T08:40:14.197Z"
   },
   {
    "duration": 4,
    "start_time": "2023-04-04T08:43:14.327Z"
   },
   {
    "duration": 6,
    "start_time": "2023-04-04T08:43:30.822Z"
   },
   {
    "duration": 6,
    "start_time": "2023-04-04T08:43:50.368Z"
   },
   {
    "duration": 3,
    "start_time": "2023-04-04T08:45:05.797Z"
   },
   {
    "duration": 10,
    "start_time": "2023-04-04T08:45:11.010Z"
   },
   {
    "duration": 28,
    "start_time": "2023-04-04T08:45:18.162Z"
   },
   {
    "duration": 5,
    "start_time": "2023-04-04T08:45:33.197Z"
   },
   {
    "duration": 22,
    "start_time": "2023-04-04T08:45:39.806Z"
   },
   {
    "duration": 22,
    "start_time": "2023-04-04T08:45:51.757Z"
   },
   {
    "duration": 25,
    "start_time": "2023-04-04T08:45:59.921Z"
   },
   {
    "duration": 45,
    "start_time": "2023-04-04T08:53:17.995Z"
   },
   {
    "duration": 5,
    "start_time": "2023-04-04T08:54:30.015Z"
   },
   {
    "duration": 23,
    "start_time": "2023-04-04T08:54:44.272Z"
   },
   {
    "duration": 5,
    "start_time": "2023-04-04T08:54:57.105Z"
   },
   {
    "duration": 21,
    "start_time": "2023-04-04T08:54:57.943Z"
   },
   {
    "duration": 4,
    "start_time": "2023-04-04T08:55:08.673Z"
   },
   {
    "duration": 37,
    "start_time": "2023-04-04T08:55:10.648Z"
   },
   {
    "duration": 24,
    "start_time": "2023-04-04T08:55:11.308Z"
   },
   {
    "duration": 39,
    "start_time": "2023-04-04T08:55:13.056Z"
   },
   {
    "duration": 11,
    "start_time": "2023-04-04T08:55:14.520Z"
   },
   {
    "duration": 6,
    "start_time": "2023-04-04T08:55:16.211Z"
   },
   {
    "duration": 18,
    "start_time": "2023-04-04T08:55:17.796Z"
   },
   {
    "duration": 15,
    "start_time": "2023-04-04T08:55:22.525Z"
   },
   {
    "duration": 4,
    "start_time": "2023-04-04T08:55:24.632Z"
   },
   {
    "duration": 20,
    "start_time": "2023-04-04T08:55:26.067Z"
   },
   {
    "duration": 5,
    "start_time": "2023-04-04T08:55:27.748Z"
   },
   {
    "duration": 6,
    "start_time": "2023-04-04T08:55:30.104Z"
   },
   {
    "duration": 6,
    "start_time": "2023-04-04T08:55:31.198Z"
   },
   {
    "duration": 6,
    "start_time": "2023-04-04T08:55:32.146Z"
   },
   {
    "duration": 3,
    "start_time": "2023-04-04T08:55:33.713Z"
   },
   {
    "duration": 9,
    "start_time": "2023-04-04T08:55:35.366Z"
   },
   {
    "duration": 22,
    "start_time": "2023-04-04T08:55:36.464Z"
   },
   {
    "duration": 20,
    "start_time": "2023-04-04T08:55:37.999Z"
   },
   {
    "duration": 20,
    "start_time": "2023-04-04T08:55:39.404Z"
   },
   {
    "duration": 4,
    "start_time": "2023-04-04T08:56:19.948Z"
   },
   {
    "duration": 257,
    "start_time": "2023-04-04T08:56:22.046Z"
   },
   {
    "duration": 4,
    "start_time": "2023-04-04T08:57:03.477Z"
   },
   {
    "duration": 278,
    "start_time": "2023-04-04T08:57:05.766Z"
   },
   {
    "duration": 78,
    "start_time": "2023-04-04T08:57:26.847Z"
   },
   {
    "duration": 6,
    "start_time": "2023-04-04T08:57:46.130Z"
   },
   {
    "duration": 6,
    "start_time": "2023-04-04T08:57:48.606Z"
   },
   {
    "duration": 270,
    "start_time": "2023-04-04T08:57:49.406Z"
   },
   {
    "duration": 5,
    "start_time": "2023-04-04T08:57:57.930Z"
   },
   {
    "duration": 5,
    "start_time": "2023-04-04T08:58:05.396Z"
   },
   {
    "duration": 254,
    "start_time": "2023-04-04T08:58:06.247Z"
   },
   {
    "duration": 12,
    "start_time": "2023-04-04T08:58:50.211Z"
   },
   {
    "duration": 82705,
    "start_time": "2023-04-04T09:00:21.257Z"
   },
   {
    "duration": 7,
    "start_time": "2023-04-04T09:21:14.019Z"
   },
   {
    "duration": 194,
    "start_time": "2023-04-04T09:21:14.028Z"
   },
   {
    "duration": 120,
    "start_time": "2023-04-04T09:21:19.798Z"
   },
   {
    "duration": 126,
    "start_time": "2023-04-04T09:21:39.044Z"
   },
   {
    "duration": 3,
    "start_time": "2023-04-04T09:22:05.294Z"
   },
   {
    "duration": 5,
    "start_time": "2023-04-04T09:22:30.672Z"
   },
   {
    "duration": 795,
    "start_time": "2023-04-04T09:22:45.383Z"
   },
   {
    "duration": 7,
    "start_time": "2023-04-04T09:23:09.364Z"
   },
   {
    "duration": 877,
    "start_time": "2023-04-04T09:23:10.300Z"
   },
   {
    "duration": 747,
    "start_time": "2023-04-04T09:25:17.949Z"
   },
   {
    "duration": 5,
    "start_time": "2023-04-04T09:26:33.132Z"
   },
   {
    "duration": 6,
    "start_time": "2023-04-04T09:26:43.362Z"
   },
   {
    "duration": 4,
    "start_time": "2023-04-04T09:26:59.796Z"
   },
   {
    "duration": 5,
    "start_time": "2023-04-04T09:27:00.605Z"
   },
   {
    "duration": 942,
    "start_time": "2023-04-04T09:27:02.233Z"
   },
   {
    "duration": 11,
    "start_time": "2023-04-04T09:27:04.917Z"
   },
   {
    "duration": 10,
    "start_time": "2023-04-04T09:27:20.317Z"
   },
   {
    "duration": 11,
    "start_time": "2023-04-04T09:27:20.828Z"
   },
   {
    "duration": 4,
    "start_time": "2023-04-04T09:27:25.530Z"
   },
   {
    "duration": 38,
    "start_time": "2023-04-04T09:27:26.580Z"
   },
   {
    "duration": 27,
    "start_time": "2023-04-04T09:27:27.335Z"
   },
   {
    "duration": 43,
    "start_time": "2023-04-04T09:27:29.220Z"
   },
   {
    "duration": 14,
    "start_time": "2023-04-04T09:27:30.473Z"
   },
   {
    "duration": 5,
    "start_time": "2023-04-04T09:27:31.792Z"
   },
   {
    "duration": 22,
    "start_time": "2023-04-04T09:27:32.893Z"
   },
   {
    "duration": 19,
    "start_time": "2023-04-04T09:27:37.681Z"
   },
   {
    "duration": 5,
    "start_time": "2023-04-04T09:27:39.113Z"
   },
   {
    "duration": 26,
    "start_time": "2023-04-04T09:27:41.141Z"
   },
   {
    "duration": 5,
    "start_time": "2023-04-04T09:27:42.473Z"
   },
   {
    "duration": 6,
    "start_time": "2023-04-04T09:27:43.753Z"
   },
   {
    "duration": 8,
    "start_time": "2023-04-04T09:27:44.628Z"
   },
   {
    "duration": 7,
    "start_time": "2023-04-04T09:27:45.780Z"
   },
   {
    "duration": 3,
    "start_time": "2023-04-04T09:27:47.101Z"
   },
   {
    "duration": 9,
    "start_time": "2023-04-04T09:27:48.382Z"
   },
   {
    "duration": 23,
    "start_time": "2023-04-04T09:27:49.620Z"
   },
   {
    "duration": 26,
    "start_time": "2023-04-04T09:27:51.180Z"
   },
   {
    "duration": 22,
    "start_time": "2023-04-04T09:27:52.812Z"
   },
   {
    "duration": 7,
    "start_time": "2023-04-04T09:27:54.190Z"
   },
   {
    "duration": 7,
    "start_time": "2023-04-04T09:27:55.924Z"
   },
   {
    "duration": 281,
    "start_time": "2023-04-04T09:27:57.104Z"
   },
   {
    "duration": 9,
    "start_time": "2023-04-04T09:27:58.332Z"
   },
   {
    "duration": 172,
    "start_time": "2023-04-04T09:27:59.373Z"
   },
   {
    "duration": 4,
    "start_time": "2023-04-04T09:28:04.492Z"
   },
   {
    "duration": 6,
    "start_time": "2023-04-04T09:28:05.868Z"
   },
   {
    "duration": 924,
    "start_time": "2023-04-04T09:28:07.757Z"
   },
   {
    "duration": 12,
    "start_time": "2023-04-04T09:28:09.976Z"
   },
   {
    "duration": 744,
    "start_time": "2023-04-04T09:28:54.947Z"
   },
   {
    "duration": 9,
    "start_time": "2023-04-04T09:28:58.723Z"
   },
   {
    "duration": 66,
    "start_time": "2023-04-04T09:29:00.466Z"
   },
   {
    "duration": 45,
    "start_time": "2023-04-04T09:29:54.062Z"
   },
   {
    "duration": 9,
    "start_time": "2023-04-04T09:30:03.439Z"
   },
   {
    "duration": 8,
    "start_time": "2023-04-04T09:30:07.968Z"
   },
   {
    "duration": 24,
    "start_time": "2023-04-04T09:31:03.419Z"
   },
   {
    "duration": 9,
    "start_time": "2023-04-04T09:31:11.911Z"
   },
   {
    "duration": 9,
    "start_time": "2023-04-04T09:31:16.435Z"
   },
   {
    "duration": 5,
    "start_time": "2023-04-04T09:32:33.870Z"
   },
   {
    "duration": 148,
    "start_time": "2023-04-04T09:32:34.762Z"
   },
   {
    "duration": 355,
    "start_time": "2023-04-04T09:32:44.851Z"
   },
   {
    "duration": 7,
    "start_time": "2023-04-04T09:39:02.726Z"
   },
   {
    "duration": 6,
    "start_time": "2023-04-04T09:39:04.039Z"
   },
   {
    "duration": 15,
    "start_time": "2023-04-04T09:39:05.872Z"
   },
   {
    "duration": 16,
    "start_time": "2023-04-04T09:39:06.832Z"
   },
   {
    "duration": 8,
    "start_time": "2023-04-04T09:39:07.888Z"
   },
   {
    "duration": 14,
    "start_time": "2023-04-04T09:39:09.340Z"
   },
   {
    "duration": 12,
    "start_time": "2023-04-04T09:39:11.299Z"
   },
   {
    "duration": 130,
    "start_time": "2023-04-04T09:39:12.792Z"
   },
   {
    "duration": 143,
    "start_time": "2023-04-04T09:39:16.599Z"
   },
   {
    "duration": 6,
    "start_time": "2023-04-04T09:41:46.872Z"
   },
   {
    "duration": 4,
    "start_time": "2023-04-04T09:41:47.660Z"
   },
   {
    "duration": 10,
    "start_time": "2023-04-04T09:41:49.224Z"
   },
   {
    "duration": 281,
    "start_time": "2023-04-04T09:51:49.697Z"
   },
   {
    "duration": 433,
    "start_time": "2023-04-04T09:51:55.441Z"
   },
   {
    "duration": 43,
    "start_time": "2023-04-04T09:52:39.722Z"
   },
   {
    "duration": 11,
    "start_time": "2023-04-04T09:52:44.218Z"
   },
   {
    "duration": 102,
    "start_time": "2023-04-04T09:53:58.578Z"
   },
   {
    "duration": 13,
    "start_time": "2023-04-04T09:54:01.116Z"
   },
   {
    "duration": 310,
    "start_time": "2023-04-04T09:54:03.253Z"
   },
   {
    "duration": 24,
    "start_time": "2023-04-04T09:54:05.136Z"
   },
   {
    "duration": 316,
    "start_time": "2023-04-04T10:41:53.930Z"
   },
   {
    "duration": 26,
    "start_time": "2023-04-04T10:41:57.730Z"
   },
   {
    "duration": 27,
    "start_time": "2023-04-04T10:41:59.738Z"
   },
   {
    "duration": 9,
    "start_time": "2023-04-04T10:47:30.446Z"
   },
   {
    "duration": 11,
    "start_time": "2023-04-04T10:47:36.017Z"
   }
  ],
  "kernelspec": {
   "display_name": "Python 3 (ipykernel)",
   "language": "python",
   "name": "python3"
  },
  "language_info": {
   "codemirror_mode": {
    "name": "ipython",
    "version": 3
   },
   "file_extension": ".py",
   "mimetype": "text/x-python",
   "name": "python",
   "nbconvert_exporter": "python",
   "pygments_lexer": "ipython3",
   "version": "3.9.5"
  },
  "toc": {
   "base_numbering": 1,
   "nav_menu": {},
   "number_sections": true,
   "sideBar": true,
   "skip_h1_title": true,
   "title_cell": "Содержание",
   "title_sidebar": "Contents",
   "toc_cell": true,
   "toc_position": {},
   "toc_section_display": true,
   "toc_window_display": true
  }
 },
 "nbformat": 4,
 "nbformat_minor": 2
}
